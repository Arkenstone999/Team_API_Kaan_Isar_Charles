{
 "cells": [
  {
   "cell_type": "markdown",
   "id": "0b6eea0b",
   "metadata": {},
   "source": [
    "# **Global Healthcare Equality Analysis**\n",
    "\n",
    "This notebook explores healthcare equality around the world by analyzing:\n",
    "- Life expectancy trends\n",
    "- Disease rate reductions in different economic contexts\n",
    "- Cancer prevalence worldwide\n",
    "- Correlation between cancer rates and screening availability\n",
    "\n",
    "## **Data Sources:**\n",
    "- WHO Global Health Observatory\n",
    "- Kaggle Datasets\n",
    "- API for Cancer Indicators"
   ]
  },
  {
   "cell_type": "code",
   "execution_count": 1,
   "id": "bf8799dd",
   "metadata": {},
   "outputs": [],
   "source": [
    "import pandas as pd\n",
    "import numpy as np\n",
    "import matplotlib.pyplot as plt\n",
    "import seaborn as sns\n",
    "import plotly.express as px\n",
    "import scipy.stats as stats\n",
    "import duckdb as db\n",
    "import requests\n",
    "from typing import List\n",
    "\n",
    "%matplotlib inline\n",
    "%config InlineBackend.figure_format = 'retina'\n"
   ]
  },
  {
   "cell_type": "markdown",
   "id": "75f67ac0",
   "metadata": {},
   "source": [
    "## **1. Data Loading & Cleaning**\n",
    "We'll load datasets related to **cancer rates, life expectancy, and disease prevalence.**"
   ]
  },
  {
   "cell_type": "code",
   "execution_count": 2,
   "id": "1025484f",
   "metadata": {},
   "outputs": [],
   "source": [
    "df_cancer_reg = pd.read_csv(\"cancer_reg.csv\") \n",
    "df_life_expectancy = pd.read_csv(\"life_expectancy_data.csv\") "
   ]
  },
  {
   "cell_type": "code",
   "execution_count": 3,
   "id": "ad8b617f",
   "metadata": {},
   "outputs": [],
   "source": [
    "def get_api_data(url: str) -> dict:\n",
    "    try:\n",
    "        response = requests.get(url)\n",
    "        response.raise_for_status()  # Raise exception for bad status codes\n",
    "        return response.json()\n",
    "    except requests.exceptions.RequestException as e:\n",
    "        print(f\"Error fetching data from {url}: {e}\")\n",
    "        return None"
   ]
  },
  {
   "cell_type": "code",
   "execution_count": 4,
   "id": "7e033db2",
   "metadata": {},
   "outputs": [],
   "source": [
    "# Cancer-related indicators\n",
    "def get_cancer_indicators() -> pd.DataFrame:\n",
    "    url = \"https://ghoapi.azureedge.net/api/Indicator?$filter=contains(IndicatorName,'cancer')\"\n",
    "    data = get_api_data(url)\n",
    "    \n",
    "    if data and 'value' in data:\n",
    "        # Convert 'value' list to DataFrame\n",
    "        df = pd.DataFrame(data['value'])\n",
    "        return df\n",
    "    return pd.DataFrame()"
   ]
  },
  {
   "cell_type": "code",
   "execution_count": 5,
   "id": "a322666f",
   "metadata": {},
   "outputs": [],
   "source": [
    "# Data for specific indicator code and create DataFrame\n",
    "def get_indicator_data(indicator_code: str) -> pd.DataFrame:\n",
    "    url = f\"https://ghoapi.azureedge.net/api/{indicator_code}\"\n",
    "    data = get_api_data(url)\n",
    "    \n",
    "    if data and 'value' in data:\n",
    "        df = pd.DataFrame(data['value'])\n",
    "        return df\n",
    "    return pd.DataFrame()"
   ]
  },
  {
   "cell_type": "markdown",
   "id": "f9346b45",
   "metadata": {},
   "source": [
    "### **Previewing Data**\n",
    "Let's take a look at the first few rows of each dataset."
   ]
  },
  {
   "cell_type": "code",
   "execution_count": 6,
   "id": "c0fdba61",
   "metadata": {},
   "outputs": [],
   "source": [
    "cancer_indicators_df = get_cancer_indicators()\n",
    "indicator_codes = cancer_indicators_df['IndicatorCode'].tolist()\n",
    "\n",
    "indicator_df_all = [get_indicator_data(indicator) for indicator in indicator_codes]\n"
   ]
  },
  {
   "cell_type": "code",
   "execution_count": 26,
   "id": "2382e992",
   "metadata": {},
   "outputs": [],
   "source": [
    "cancer_indicators_df[['IndicatorCode','IndicatorName']].to_csv(\"cancer_indicators.csv\", index=False)"
   ]
  },
  {
   "cell_type": "code",
   "execution_count": 7,
   "id": "dc05f68b",
   "metadata": {},
   "outputs": [],
   "source": [
    "def drop_rendundant_columns_in_gho(indicator_df):\n",
    "    if indicator_df.shape[1] == 25:\n",
    "        indicator_df = indicator_df[['IndicatorCode','ParentLocationCode','ParentLocation','Value','NumericValue','Low','High','Date']]\n",
    "        if indicator_df['NumericValue'].isnull().all():\n",
    "            indicator_df = indicator_df.drop(columns=['NumericValue'])\n",
    "        elif indicator_df['Low'].isnull().all():\n",
    "            indicator_df = indicator_df.drop(columns=['Low'])\n",
    "        elif indicator_df['High'].isnull().all():\n",
    "            indicator_df = indicator_df.drop(columns=['High'])\n",
    "        return indicator_df\n",
    "    pass"
   ]
  },
  {
   "cell_type": "code",
   "execution_count": 8,
   "id": "85860064",
   "metadata": {},
   "outputs": [],
   "source": [
    "indicator_df = [drop_rendundant_columns_in_gho(indicator_df) for indicator_df in indicator_df_all if indicator_df.shape[1] == 25]"
   ]
  },
  {
   "cell_type": "code",
   "execution_count": 9,
   "id": "a5cbf098",
   "metadata": {},
   "outputs": [
    {
     "data": {
      "text/html": [
       "<div>\n",
       "<style scoped>\n",
       "    .dataframe tbody tr th:only-of-type {\n",
       "        vertical-align: middle;\n",
       "    }\n",
       "\n",
       "    .dataframe tbody tr th {\n",
       "        vertical-align: top;\n",
       "    }\n",
       "\n",
       "    .dataframe thead th {\n",
       "        text-align: right;\n",
       "    }\n",
       "</style>\n",
       "<table border=\"1\" class=\"dataframe\">\n",
       "  <thead>\n",
       "    <tr style=\"text-align: right;\">\n",
       "      <th></th>\n",
       "      <th>IndicatorCode</th>\n",
       "      <th>ParentLocationCode</th>\n",
       "      <th>ParentLocation</th>\n",
       "      <th>Value</th>\n",
       "      <th>Low</th>\n",
       "      <th>High</th>\n",
       "      <th>Date</th>\n",
       "    </tr>\n",
       "  </thead>\n",
       "  <tbody>\n",
       "    <tr>\n",
       "      <th>0</th>\n",
       "      <td>NCD_CCS_BreastCancer</td>\n",
       "      <td>AFR</td>\n",
       "      <td>Africa</td>\n",
       "      <td>No data received</td>\n",
       "      <td>None</td>\n",
       "      <td>None</td>\n",
       "      <td>2015-06-01T13:06:28+02:00</td>\n",
       "    </tr>\n",
       "    <tr>\n",
       "      <th>1</th>\n",
       "      <td>NCD_CCS_BreastCancer</td>\n",
       "      <td>AMR</td>\n",
       "      <td>Americas</td>\n",
       "      <td>Yes</td>\n",
       "      <td>None</td>\n",
       "      <td>None</td>\n",
       "      <td>2015-06-01T13:06:18+02:00</td>\n",
       "    </tr>\n",
       "    <tr>\n",
       "      <th>2</th>\n",
       "      <td>NCD_CCS_BreastCancer</td>\n",
       "      <td>EMR</td>\n",
       "      <td>Eastern Mediterranean</td>\n",
       "      <td>Don't know</td>\n",
       "      <td>None</td>\n",
       "      <td>None</td>\n",
       "      <td>2015-06-01T13:06:27+02:00</td>\n",
       "    </tr>\n",
       "    <tr>\n",
       "      <th>3</th>\n",
       "      <td>NCD_CCS_BreastCancer</td>\n",
       "      <td>WPR</td>\n",
       "      <td>Western Pacific</td>\n",
       "      <td>Yes</td>\n",
       "      <td>None</td>\n",
       "      <td>None</td>\n",
       "      <td>2015-06-01T13:06:23+02:00</td>\n",
       "    </tr>\n",
       "    <tr>\n",
       "      <th>4</th>\n",
       "      <td>NCD_CCS_BreastCancer</td>\n",
       "      <td>AMR</td>\n",
       "      <td>Americas</td>\n",
       "      <td>Yes</td>\n",
       "      <td>None</td>\n",
       "      <td>None</td>\n",
       "      <td>2015-06-01T13:06:18+02:00</td>\n",
       "    </tr>\n",
       "  </tbody>\n",
       "</table>\n",
       "</div>"
      ],
      "text/plain": [
       "          IndicatorCode ParentLocationCode         ParentLocation  \\\n",
       "0  NCD_CCS_BreastCancer                AFR                 Africa   \n",
       "1  NCD_CCS_BreastCancer                AMR               Americas   \n",
       "2  NCD_CCS_BreastCancer                EMR  Eastern Mediterranean   \n",
       "3  NCD_CCS_BreastCancer                WPR        Western Pacific   \n",
       "4  NCD_CCS_BreastCancer                AMR               Americas   \n",
       "\n",
       "              Value   Low  High                       Date  \n",
       "0  No data received  None  None  2015-06-01T13:06:28+02:00  \n",
       "1               Yes  None  None  2015-06-01T13:06:18+02:00  \n",
       "2        Don't know  None  None  2015-06-01T13:06:27+02:00  \n",
       "3               Yes  None  None  2015-06-01T13:06:23+02:00  \n",
       "4               Yes  None  None  2015-06-01T13:06:18+02:00  "
      ]
     },
     "execution_count": 9,
     "metadata": {},
     "output_type": "execute_result"
    }
   ],
   "source": [
    "indicator_df[0].head()"
   ]
  },
  {
   "cell_type": "code",
   "execution_count": 10,
   "id": "fef7374a",
   "metadata": {},
   "outputs": [
    {
     "name": "stdout",
     "output_type": "stream",
     "text": [
      "NCD_CCS_BreastCancer\n",
      "NCD_CCS_CancerPlan\n",
      "NCD_CCS_breastcancerscreening\n",
      "NCD_CCS_cervicalcancermethod\n",
      "NCD_CCS_cervicalcancerscreening\n",
      "NCD_CCS_cervicalcancerpgmcvg\n",
      "NCD_CCS_BowelCancer\n",
      "NCD_CCS_CancerRegNational\n",
      "NCD_CCS_cervicalcancerpgmtype\n",
      "NCDMORT3070\n",
      "SA_0000001420\n",
      "SA_0000001430\n",
      "SA_0000001429\n",
      "SA_0000001439\n",
      "SA_0000001445\n",
      "SA_0000001449\n",
      "SA_0000001419\n",
      "SA_0000001426\n",
      "SA_0000001438\n",
      "SA_0000001448\n",
      "RADON_Q803\n",
      "SA_0000001807\n",
      "SA_0000001808\n",
      "SA_0000001827\n",
      "NCD_CCS_PBCR\n",
      "ORAL_HEALTH_CANCER_LIPORALCAVITY_NEWCASE_NUMBER\n",
      "PRISON_D4_CANCER_DIAG_TOT\n",
      "NCD_CCS_cancer_surgery\n",
      "NCD_CCS_CANCER_DEPT\n",
      "ORAL_HEALTH_CANCER_LIPORALCAVITY_100K\n",
      "NCD_CXCA_SCREENED_WITHIN_TIMEPERIOD\n",
      "NCD_CCS_CANCER_GUIDE\n",
      "SA_0000001807_AA\n"
     ]
    }
   ],
   "source": [
    "conn = db.connect('cancer_reg.ddb', read_only=False)\n",
    "for i in indicator_df:\n",
    "    conn.execute(f\"CREATE TABLE IF NOT EXISTS {i.loc[0,'IndicatorCode']} AS SELECT * FROM i\")\n",
    "conn.execute(f\"CREATE TABLE IF NOT EXISTS cancer_reg AS SELECT * FROM df_cancer_reg\")\n",
    "conn.close()"
   ]
  },
  {
   "cell_type": "markdown",
   "id": "f7ce53ba",
   "metadata": {},
   "source": [
    "### NCD_CCS_BreastCancer\n",
    "General availability of breast cancer screening (by palpation or mammogram) at the primary health care level\n",
    "\n",
    "### NCD_CCS_CancerPlan\t\n",
    "Existence of operational policy/strategy/action plan for cancer\n",
    "\n",
    "### NCD_CCS_breastcancerscreening\t\n",
    "Existence of national screening program for breast cancer\n",
    "\n",
    "### NCD_CCS_cervicalcancermethod\t\n",
    "Most widely used screening method in national cervical cancer screening program\n",
    "\n",
    "### NCD_CCS_cervicalcancerscreening\t\n",
    "Existence of national screening program for cervical cancer\n",
    "\n",
    "### NCD_CCS_cervicalcancerpgmcvg\t\n",
    "Coverage of national cervical cancer screening program (%)\n",
    "\n",
    "### NCD_CCS_BowelCancer\t\n",
    "General availability of colon cancer screening at the primary health care level\n",
    "\n",
    "### NCD_CCS_CancerRegNational\t\n",
    "Existence of population-based cancer registry\n",
    "\n",
    "### NCD_CCS_cervicalcancerpgmtype\t\n",
    "Type of national cervical cancer screening program\n",
    "\n",
    "### NCDMORT3070\t\n",
    "Probability (%) of dying between age 30 and exact age 70 from any of cardiovascular disease, cancer, diabetes, or chronic respiratory disease\n",
    "\n",
    "### SA_0000001420\t\n",
    "Age-standardized DALYs, colon and rectum cancers, per 100,000\n",
    "\n",
    "### SA_0000001430\t\n",
    "Age-standardized DALYs, oesophagus cancer, per 100,000\n",
    "\n",
    "### SA_0000001429\t\n",
    "Age-standardized DALYs, mouth and oropharynx cancer, per 100,000\n",
    "\n",
    "### SA_0000001439\t\n",
    "Age-standardized death rates, colon and rectum cancers, per 100,000\n",
    "\n",
    "### SA_0000001445\t\n",
    "Age-standardized death rates, liver cancer, per 100,000\n",
    "\n",
    "### SA_0000001449\t\n",
    "Age-standardized death rates, oesophagus cancer, per 100,000\n",
    "\n",
    "### SA_0000001419\t\n",
    "Age-standardized DALYs, breast cancer, per 100,000\n",
    "\n",
    "### SA_0000001426\t\n",
    "Age-standardized DALYs, liver cancer, per 100,000\n",
    "\n",
    "### SA_0000001438\t\n",
    "Age-standardized death rates, breast cancer, per 100,000\n",
    "\n",
    "### SA_0000001448\t\n",
    "Age-standardized death rates, mouth and oropharynx cancer, per 100,000\n",
    "\n",
    "### RADON_Q803\t\n",
    "Inclusion of radon in national cancer control strategy\n",
    "\n",
    "### WHS2_160\t\n",
    "Age-standardized mortality rate by cause (per 100 000 population) - Cancer\n",
    "\n",
    "### SA_0000001807\t\n",
    "Cancer, age-standardized death rates (15+), per 100,000 population\n",
    "\n",
    "### SA_0000001808\t\n",
    "Alcohol-attributable fractions (15+), cancer deaths\n",
    "\n",
    "### SA_0000001827\t\n",
    "Regional prevalence, AAFs (15+), cancer\n",
    "\n",
    "### NCD_CCS_PBCR\t\n",
    "Existence of population-based cancer registry\n",
    "\n",
    "### ORAL_HEALTH_CANCER_LIPORALCAVITY_NEWCASE_NUMBER\t\n",
    "Number of new cases of lip and oral cavity cancer\n",
    "\n",
    "### PRISON_D4_CANCER_DIAG_TOT\t\n",
    "In-prison cancer diagnosis (number of diagnoses)\n",
    "\n",
    "### NCD_CCS_cancer_surgery\t\n",
    "General availability of cancer surgery in the public sector\n",
    "\n",
    "### NCD_CCS_CANCER_DEPT\t\n",
    "General availability of cancer centres or cancer departments at tertiary level in the public sector\n",
    "\n",
    "### ORAL_HEALTH_CANCER_LIPORALCAVITY_100K\t\n",
    "Incidence rate of lip and oral cavity cancer (per 100 000 population)\n",
    "\n",
    "### NCD_CXCA_SCREENED_WITHIN_TIMEPERIOD\t\n",
    "Prevalence of cervical cancer screening  among women aged 30-49 years (%)\n",
    "\n",
    "### CD_CCS_CANCER_GUIDE\t\n",
    "Existence of evidence-based national guidelines/protocols/standards for the management of cancer\n",
    "\n",
    "### SA_0000001807_AA\t\n",
    "Cancer, alcohol-attributable, age-standardized death rates, per 100,000 population\n"
   ]
  },
  {
   "cell_type": "code",
   "execution_count": 11,
   "id": "c5e22f7d",
   "metadata": {},
   "outputs": [
    {
     "data": {
      "text/html": [
       "<div>\n",
       "<style scoped>\n",
       "    .dataframe tbody tr th:only-of-type {\n",
       "        vertical-align: middle;\n",
       "    }\n",
       "\n",
       "    .dataframe tbody tr th {\n",
       "        vertical-align: top;\n",
       "    }\n",
       "\n",
       "    .dataframe thead th {\n",
       "        text-align: right;\n",
       "    }\n",
       "</style>\n",
       "<table border=\"1\" class=\"dataframe\">\n",
       "  <thead>\n",
       "    <tr style=\"text-align: right;\">\n",
       "      <th></th>\n",
       "      <th>avganncount</th>\n",
       "      <th>avgdeathsperyear</th>\n",
       "      <th>target_deathrate</th>\n",
       "      <th>incidencerate</th>\n",
       "      <th>medincome</th>\n",
       "      <th>popest2015</th>\n",
       "      <th>povertypercent</th>\n",
       "      <th>studypercap</th>\n",
       "      <th>binnedinc</th>\n",
       "      <th>medianage</th>\n",
       "      <th>...</th>\n",
       "      <th>pctprivatecoveragealone</th>\n",
       "      <th>pctempprivcoverage</th>\n",
       "      <th>pctpubliccoverage</th>\n",
       "      <th>pctpubliccoveragealone</th>\n",
       "      <th>pctwhite</th>\n",
       "      <th>pctblack</th>\n",
       "      <th>pctasian</th>\n",
       "      <th>pctotherrace</th>\n",
       "      <th>pctmarriedhouseholds</th>\n",
       "      <th>birthrate</th>\n",
       "    </tr>\n",
       "  </thead>\n",
       "  <tbody>\n",
       "    <tr>\n",
       "      <th>0</th>\n",
       "      <td>1397.0</td>\n",
       "      <td>469</td>\n",
       "      <td>164.9</td>\n",
       "      <td>489.8</td>\n",
       "      <td>61898</td>\n",
       "      <td>260131</td>\n",
       "      <td>11.2</td>\n",
       "      <td>499.748204</td>\n",
       "      <td>(61494.5, 125635]</td>\n",
       "      <td>39.3</td>\n",
       "      <td>...</td>\n",
       "      <td>NaN</td>\n",
       "      <td>41.6</td>\n",
       "      <td>32.9</td>\n",
       "      <td>14.0</td>\n",
       "      <td>81.780529</td>\n",
       "      <td>2.594728</td>\n",
       "      <td>4.821857</td>\n",
       "      <td>1.843479</td>\n",
       "      <td>52.856076</td>\n",
       "      <td>6.118831</td>\n",
       "    </tr>\n",
       "    <tr>\n",
       "      <th>1</th>\n",
       "      <td>173.0</td>\n",
       "      <td>70</td>\n",
       "      <td>161.3</td>\n",
       "      <td>411.6</td>\n",
       "      <td>48127</td>\n",
       "      <td>43269</td>\n",
       "      <td>18.6</td>\n",
       "      <td>23.111234</td>\n",
       "      <td>(48021.6, 51046.4]</td>\n",
       "      <td>33.0</td>\n",
       "      <td>...</td>\n",
       "      <td>53.8</td>\n",
       "      <td>43.6</td>\n",
       "      <td>31.1</td>\n",
       "      <td>15.3</td>\n",
       "      <td>89.228509</td>\n",
       "      <td>0.969102</td>\n",
       "      <td>2.246233</td>\n",
       "      <td>3.741352</td>\n",
       "      <td>45.372500</td>\n",
       "      <td>4.333096</td>\n",
       "    </tr>\n",
       "    <tr>\n",
       "      <th>2</th>\n",
       "      <td>102.0</td>\n",
       "      <td>50</td>\n",
       "      <td>174.7</td>\n",
       "      <td>349.7</td>\n",
       "      <td>49348</td>\n",
       "      <td>21026</td>\n",
       "      <td>14.6</td>\n",
       "      <td>47.560164</td>\n",
       "      <td>(48021.6, 51046.4]</td>\n",
       "      <td>45.0</td>\n",
       "      <td>...</td>\n",
       "      <td>43.5</td>\n",
       "      <td>34.9</td>\n",
       "      <td>42.1</td>\n",
       "      <td>21.1</td>\n",
       "      <td>90.922190</td>\n",
       "      <td>0.739673</td>\n",
       "      <td>0.465898</td>\n",
       "      <td>2.747358</td>\n",
       "      <td>54.444868</td>\n",
       "      <td>3.729488</td>\n",
       "    </tr>\n",
       "    <tr>\n",
       "      <th>3</th>\n",
       "      <td>427.0</td>\n",
       "      <td>202</td>\n",
       "      <td>194.8</td>\n",
       "      <td>430.4</td>\n",
       "      <td>44243</td>\n",
       "      <td>75882</td>\n",
       "      <td>17.1</td>\n",
       "      <td>342.637253</td>\n",
       "      <td>(42724.4, 45201]</td>\n",
       "      <td>42.8</td>\n",
       "      <td>...</td>\n",
       "      <td>40.3</td>\n",
       "      <td>35.0</td>\n",
       "      <td>45.3</td>\n",
       "      <td>25.0</td>\n",
       "      <td>91.744686</td>\n",
       "      <td>0.782626</td>\n",
       "      <td>1.161359</td>\n",
       "      <td>1.362643</td>\n",
       "      <td>51.021514</td>\n",
       "      <td>4.603841</td>\n",
       "    </tr>\n",
       "    <tr>\n",
       "      <th>4</th>\n",
       "      <td>57.0</td>\n",
       "      <td>26</td>\n",
       "      <td>144.4</td>\n",
       "      <td>350.1</td>\n",
       "      <td>49955</td>\n",
       "      <td>10321</td>\n",
       "      <td>12.5</td>\n",
       "      <td>0.000000</td>\n",
       "      <td>(48021.6, 51046.4]</td>\n",
       "      <td>48.3</td>\n",
       "      <td>...</td>\n",
       "      <td>43.9</td>\n",
       "      <td>35.1</td>\n",
       "      <td>44.0</td>\n",
       "      <td>22.7</td>\n",
       "      <td>94.104024</td>\n",
       "      <td>0.270192</td>\n",
       "      <td>0.665830</td>\n",
       "      <td>0.492135</td>\n",
       "      <td>54.027460</td>\n",
       "      <td>6.796657</td>\n",
       "    </tr>\n",
       "    <tr>\n",
       "      <th>5</th>\n",
       "      <td>428.0</td>\n",
       "      <td>152</td>\n",
       "      <td>176.0</td>\n",
       "      <td>505.4</td>\n",
       "      <td>52313</td>\n",
       "      <td>61023</td>\n",
       "      <td>15.6</td>\n",
       "      <td>180.259902</td>\n",
       "      <td>(51046.4, 54545.6]</td>\n",
       "      <td>45.4</td>\n",
       "      <td>...</td>\n",
       "      <td>38.8</td>\n",
       "      <td>32.6</td>\n",
       "      <td>43.2</td>\n",
       "      <td>20.2</td>\n",
       "      <td>84.882631</td>\n",
       "      <td>1.653205</td>\n",
       "      <td>1.538057</td>\n",
       "      <td>3.314635</td>\n",
       "      <td>51.220360</td>\n",
       "      <td>4.964476</td>\n",
       "    </tr>\n",
       "    <tr>\n",
       "      <th>6</th>\n",
       "      <td>250.0</td>\n",
       "      <td>97</td>\n",
       "      <td>175.9</td>\n",
       "      <td>461.8</td>\n",
       "      <td>37782</td>\n",
       "      <td>41516</td>\n",
       "      <td>23.2</td>\n",
       "      <td>0.000000</td>\n",
       "      <td>(37413.8, 40362.7]</td>\n",
       "      <td>42.6</td>\n",
       "      <td>...</td>\n",
       "      <td>35.0</td>\n",
       "      <td>28.3</td>\n",
       "      <td>46.4</td>\n",
       "      <td>28.7</td>\n",
       "      <td>75.106455</td>\n",
       "      <td>0.616955</td>\n",
       "      <td>0.866157</td>\n",
       "      <td>8.356721</td>\n",
       "      <td>51.013900</td>\n",
       "      <td>4.204317</td>\n",
       "    </tr>\n",
       "    <tr>\n",
       "      <th>7</th>\n",
       "      <td>146.0</td>\n",
       "      <td>71</td>\n",
       "      <td>183.6</td>\n",
       "      <td>404.0</td>\n",
       "      <td>40189</td>\n",
       "      <td>20848</td>\n",
       "      <td>17.8</td>\n",
       "      <td>0.000000</td>\n",
       "      <td>(37413.8, 40362.7]</td>\n",
       "      <td>51.7</td>\n",
       "      <td>...</td>\n",
       "      <td>33.1</td>\n",
       "      <td>25.9</td>\n",
       "      <td>50.9</td>\n",
       "      <td>24.1</td>\n",
       "      <td>89.406636</td>\n",
       "      <td>0.305159</td>\n",
       "      <td>1.889077</td>\n",
       "      <td>2.286268</td>\n",
       "      <td>48.967033</td>\n",
       "      <td>5.889179</td>\n",
       "    </tr>\n",
       "    <tr>\n",
       "      <th>8</th>\n",
       "      <td>88.0</td>\n",
       "      <td>36</td>\n",
       "      <td>190.5</td>\n",
       "      <td>459.4</td>\n",
       "      <td>42579</td>\n",
       "      <td>13088</td>\n",
       "      <td>22.3</td>\n",
       "      <td>0.000000</td>\n",
       "      <td>(40362.7, 42724.4]</td>\n",
       "      <td>49.3</td>\n",
       "      <td>...</td>\n",
       "      <td>37.8</td>\n",
       "      <td>29.9</td>\n",
       "      <td>48.1</td>\n",
       "      <td>26.6</td>\n",
       "      <td>91.787477</td>\n",
       "      <td>0.185071</td>\n",
       "      <td>0.208205</td>\n",
       "      <td>0.616903</td>\n",
       "      <td>53.446998</td>\n",
       "      <td>5.587583</td>\n",
       "    </tr>\n",
       "    <tr>\n",
       "      <th>9</th>\n",
       "      <td>4025.0</td>\n",
       "      <td>1380</td>\n",
       "      <td>177.8</td>\n",
       "      <td>510.9</td>\n",
       "      <td>60397</td>\n",
       "      <td>843954</td>\n",
       "      <td>13.1</td>\n",
       "      <td>427.748432</td>\n",
       "      <td>(54545.6, 61494.5]</td>\n",
       "      <td>35.8</td>\n",
       "      <td>...</td>\n",
       "      <td>NaN</td>\n",
       "      <td>44.4</td>\n",
       "      <td>31.4</td>\n",
       "      <td>16.5</td>\n",
       "      <td>74.729668</td>\n",
       "      <td>6.710854</td>\n",
       "      <td>6.041472</td>\n",
       "      <td>2.699184</td>\n",
       "      <td>50.063573</td>\n",
       "      <td>5.533430</td>\n",
       "    </tr>\n",
       "  </tbody>\n",
       "</table>\n",
       "<p>10 rows × 33 columns</p>\n",
       "</div>"
      ],
      "text/plain": [
       "   avganncount  avgdeathsperyear  target_deathrate  incidencerate  medincome  \\\n",
       "0       1397.0               469             164.9          489.8      61898   \n",
       "1        173.0                70             161.3          411.6      48127   \n",
       "2        102.0                50             174.7          349.7      49348   \n",
       "3        427.0               202             194.8          430.4      44243   \n",
       "4         57.0                26             144.4          350.1      49955   \n",
       "5        428.0               152             176.0          505.4      52313   \n",
       "6        250.0                97             175.9          461.8      37782   \n",
       "7        146.0                71             183.6          404.0      40189   \n",
       "8         88.0                36             190.5          459.4      42579   \n",
       "9       4025.0              1380             177.8          510.9      60397   \n",
       "\n",
       "   popest2015  povertypercent  studypercap           binnedinc  medianage  \\\n",
       "0      260131            11.2   499.748204   (61494.5, 125635]       39.3   \n",
       "1       43269            18.6    23.111234  (48021.6, 51046.4]       33.0   \n",
       "2       21026            14.6    47.560164  (48021.6, 51046.4]       45.0   \n",
       "3       75882            17.1   342.637253    (42724.4, 45201]       42.8   \n",
       "4       10321            12.5     0.000000  (48021.6, 51046.4]       48.3   \n",
       "5       61023            15.6   180.259902  (51046.4, 54545.6]       45.4   \n",
       "6       41516            23.2     0.000000  (37413.8, 40362.7]       42.6   \n",
       "7       20848            17.8     0.000000  (37413.8, 40362.7]       51.7   \n",
       "8       13088            22.3     0.000000  (40362.7, 42724.4]       49.3   \n",
       "9      843954            13.1   427.748432  (54545.6, 61494.5]       35.8   \n",
       "\n",
       "   ...  pctprivatecoveragealone  pctempprivcoverage pctpubliccoverage  \\\n",
       "0  ...                      NaN                41.6              32.9   \n",
       "1  ...                     53.8                43.6              31.1   \n",
       "2  ...                     43.5                34.9              42.1   \n",
       "3  ...                     40.3                35.0              45.3   \n",
       "4  ...                     43.9                35.1              44.0   \n",
       "5  ...                     38.8                32.6              43.2   \n",
       "6  ...                     35.0                28.3              46.4   \n",
       "7  ...                     33.1                25.9              50.9   \n",
       "8  ...                     37.8                29.9              48.1   \n",
       "9  ...                      NaN                44.4              31.4   \n",
       "\n",
       "   pctpubliccoveragealone   pctwhite  pctblack  pctasian  pctotherrace  \\\n",
       "0                    14.0  81.780529  2.594728  4.821857      1.843479   \n",
       "1                    15.3  89.228509  0.969102  2.246233      3.741352   \n",
       "2                    21.1  90.922190  0.739673  0.465898      2.747358   \n",
       "3                    25.0  91.744686  0.782626  1.161359      1.362643   \n",
       "4                    22.7  94.104024  0.270192  0.665830      0.492135   \n",
       "5                    20.2  84.882631  1.653205  1.538057      3.314635   \n",
       "6                    28.7  75.106455  0.616955  0.866157      8.356721   \n",
       "7                    24.1  89.406636  0.305159  1.889077      2.286268   \n",
       "8                    26.6  91.787477  0.185071  0.208205      0.616903   \n",
       "9                    16.5  74.729668  6.710854  6.041472      2.699184   \n",
       "\n",
       "   pctmarriedhouseholds  birthrate  \n",
       "0             52.856076   6.118831  \n",
       "1             45.372500   4.333096  \n",
       "2             54.444868   3.729488  \n",
       "3             51.021514   4.603841  \n",
       "4             54.027460   6.796657  \n",
       "5             51.220360   4.964476  \n",
       "6             51.013900   4.204317  \n",
       "7             48.967033   5.889179  \n",
       "8             53.446998   5.587583  \n",
       "9             50.063573   5.533430  \n",
       "\n",
       "[10 rows x 33 columns]"
      ]
     },
     "execution_count": 11,
     "metadata": {},
     "output_type": "execute_result"
    }
   ],
   "source": [
    "df_cancer_reg.head(10)"
   ]
  },
  {
   "cell_type": "markdown",
   "id": "3a709742",
   "metadata": {},
   "source": [
    "## **2. Life Expectancy Trends (2000-2015)**"
   ]
  },
  {
   "cell_type": "code",
   "execution_count": 12,
   "id": "a601889d",
   "metadata": {},
   "outputs": [
    {
     "name": "stdout",
     "output_type": "stream",
     "text": [
      "\n",
      "df_cancer_reg.shape: (3047, 33)\n",
      "df_life_expectancy.shape: (2938, 22)\n",
      "\n"
     ]
    }
   ],
   "source": [
    "print(f\"\"\"\n",
    "df_cancer_reg.shape: {df_cancer_reg.shape}\n",
    "df_life_expectancy.shape: {df_life_expectancy.shape}\n",
    "\"\"\")"
   ]
  },
  {
   "cell_type": "code",
   "execution_count": 13,
   "id": "d9dab914",
   "metadata": {},
   "outputs": [
    {
     "data": {
      "text/plain": [
       "(Country                              0\n",
       " Year                                 0\n",
       " Status                               0\n",
       " Life expectancy                     10\n",
       " Adult Mortality                     10\n",
       " infant deaths                        0\n",
       " Alcohol                            194\n",
       " percentage expenditure               0\n",
       " Hepatitis B                        553\n",
       " Measles                              0\n",
       "  BMI                                34\n",
       " under-five deaths                    0\n",
       " Polio                               19\n",
       " Total expenditure                  226\n",
       " Diphtheria                          19\n",
       "  HIV/AIDS                            0\n",
       " GDP                                448\n",
       " Population                         652\n",
       "  thinness  1-19 years               34\n",
       "  thinness 5-9 years                 34\n",
       " Income composition of resources    167\n",
       " Schooling                          163\n",
       " dtype: int64,\n",
       " (2938, 22))"
      ]
     },
     "execution_count": 13,
     "metadata": {},
     "output_type": "execute_result"
    }
   ],
   "source": [
    "df_life_expectancy.isnull().sum(), df_life_expectancy.shape"
   ]
  },
  {
   "cell_type": "markdown",
   "id": "5455f3e1",
   "metadata": {},
   "source": [
    "### Analyzing global life expectancy growth."
   ]
  },
  {
   "cell_type": "markdown",
   "id": "feeccf44",
   "metadata": {},
   "source": [
    "## **3. Disease Rate Decrease (Developing vs Developed)**"
   ]
  },
  {
   "cell_type": "code",
   "execution_count": 14,
   "id": "3ea96e83",
   "metadata": {},
   "outputs": [],
   "source": [
    "df_cancer_reg['incidencerate'] = df_cancer_reg['incidencerate'].apply(lambda x: min(x, 600))"
   ]
  },
  {
   "cell_type": "code",
   "execution_count": 15,
   "id": "2ee1ffe9",
   "metadata": {},
   "outputs": [
    {
     "data": {
      "application/vnd.plotly.v1+json": {
       "config": {
        "plotlyServerURL": "https://plot.ly"
       },
       "data": [
        {
         "hovertemplate": "Median Income=%{x}<br>Cancer Incidence Rate=%{marker.color}<extra></extra>",
         "legendgroup": "",
         "marker": {
          "color": {
           "bdata": "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",
           "dtype": "f8"
          },
          "coloraxis": "coloraxis",
          "symbol": "circle"
         },
         "mode": "markers",
         "name": "",
         "showlegend": false,
         "type": "scattergl",
         "x": {
          "bdata": "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",
          "dtype": "i4"
         },
         "xaxis": "x",
         "y": {
          "bdata": "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",
          "dtype": "f8"
         },
         "yaxis": "y"
        }
       ],
       "layout": {
        "coloraxis": {
         "colorbar": {
          "title": {
           "text": "Cancer Incidence Rate"
          }
         },
         "colorscale": [
          [
           0,
           "#440154"
          ],
          [
           0.1111111111111111,
           "#482878"
          ],
          [
           0.2222222222222222,
           "#3e4989"
          ],
          [
           0.3333333333333333,
           "#31688e"
          ],
          [
           0.4444444444444444,
           "#26828e"
          ],
          [
           0.5555555555555556,
           "#1f9e89"
          ],
          [
           0.6666666666666666,
           "#35b779"
          ],
          [
           0.7777777777777778,
           "#6ece58"
          ],
          [
           0.8888888888888888,
           "#b5de2b"
          ],
          [
           1,
           "#fde725"
          ]
         ]
        },
        "legend": {
         "tracegroupgap": 0
        },
        "template": {
         "data": {
          "bar": [
           {
            "error_x": {
             "color": "#2a3f5f"
            },
            "error_y": {
             "color": "#2a3f5f"
            },
            "marker": {
             "line": {
              "color": "#E5ECF6",
              "width": 0.5
             },
             "pattern": {
              "fillmode": "overlay",
              "size": 10,
              "solidity": 0.2
             }
            },
            "type": "bar"
           }
          ],
          "barpolar": [
           {
            "marker": {
             "line": {
              "color": "#E5ECF6",
              "width": 0.5
             },
             "pattern": {
              "fillmode": "overlay",
              "size": 10,
              "solidity": 0.2
             }
            },
            "type": "barpolar"
           }
          ],
          "carpet": [
           {
            "aaxis": {
             "endlinecolor": "#2a3f5f",
             "gridcolor": "white",
             "linecolor": "white",
             "minorgridcolor": "white",
             "startlinecolor": "#2a3f5f"
            },
            "baxis": {
             "endlinecolor": "#2a3f5f",
             "gridcolor": "white",
             "linecolor": "white",
             "minorgridcolor": "white",
             "startlinecolor": "#2a3f5f"
            },
            "type": "carpet"
           }
          ],
          "choropleth": [
           {
            "colorbar": {
             "outlinewidth": 0,
             "ticks": ""
            },
            "type": "choropleth"
           }
          ],
          "contour": [
           {
            "colorbar": {
             "outlinewidth": 0,
             "ticks": ""
            },
            "colorscale": [
             [
              0,
              "#0d0887"
             ],
             [
              0.1111111111111111,
              "#46039f"
             ],
             [
              0.2222222222222222,
              "#7201a8"
             ],
             [
              0.3333333333333333,
              "#9c179e"
             ],
             [
              0.4444444444444444,
              "#bd3786"
             ],
             [
              0.5555555555555556,
              "#d8576b"
             ],
             [
              0.6666666666666666,
              "#ed7953"
             ],
             [
              0.7777777777777778,
              "#fb9f3a"
             ],
             [
              0.8888888888888888,
              "#fdca26"
             ],
             [
              1,
              "#f0f921"
             ]
            ],
            "type": "contour"
           }
          ],
          "contourcarpet": [
           {
            "colorbar": {
             "outlinewidth": 0,
             "ticks": ""
            },
            "type": "contourcarpet"
           }
          ],
          "heatmap": [
           {
            "colorbar": {
             "outlinewidth": 0,
             "ticks": ""
            },
            "colorscale": [
             [
              0,
              "#0d0887"
             ],
             [
              0.1111111111111111,
              "#46039f"
             ],
             [
              0.2222222222222222,
              "#7201a8"
             ],
             [
              0.3333333333333333,
              "#9c179e"
             ],
             [
              0.4444444444444444,
              "#bd3786"
             ],
             [
              0.5555555555555556,
              "#d8576b"
             ],
             [
              0.6666666666666666,
              "#ed7953"
             ],
             [
              0.7777777777777778,
              "#fb9f3a"
             ],
             [
              0.8888888888888888,
              "#fdca26"
             ],
             [
              1,
              "#f0f921"
             ]
            ],
            "type": "heatmap"
           }
          ],
          "histogram": [
           {
            "marker": {
             "pattern": {
              "fillmode": "overlay",
              "size": 10,
              "solidity": 0.2
             }
            },
            "type": "histogram"
           }
          ],
          "histogram2d": [
           {
            "colorbar": {
             "outlinewidth": 0,
             "ticks": ""
            },
            "colorscale": [
             [
              0,
              "#0d0887"
             ],
             [
              0.1111111111111111,
              "#46039f"
             ],
             [
              0.2222222222222222,
              "#7201a8"
             ],
             [
              0.3333333333333333,
              "#9c179e"
             ],
             [
              0.4444444444444444,
              "#bd3786"
             ],
             [
              0.5555555555555556,
              "#d8576b"
             ],
             [
              0.6666666666666666,
              "#ed7953"
             ],
             [
              0.7777777777777778,
              "#fb9f3a"
             ],
             [
              0.8888888888888888,
              "#fdca26"
             ],
             [
              1,
              "#f0f921"
             ]
            ],
            "type": "histogram2d"
           }
          ],
          "histogram2dcontour": [
           {
            "colorbar": {
             "outlinewidth": 0,
             "ticks": ""
            },
            "colorscale": [
             [
              0,
              "#0d0887"
             ],
             [
              0.1111111111111111,
              "#46039f"
             ],
             [
              0.2222222222222222,
              "#7201a8"
             ],
             [
              0.3333333333333333,
              "#9c179e"
             ],
             [
              0.4444444444444444,
              "#bd3786"
             ],
             [
              0.5555555555555556,
              "#d8576b"
             ],
             [
              0.6666666666666666,
              "#ed7953"
             ],
             [
              0.7777777777777778,
              "#fb9f3a"
             ],
             [
              0.8888888888888888,
              "#fdca26"
             ],
             [
              1,
              "#f0f921"
             ]
            ],
            "type": "histogram2dcontour"
           }
          ],
          "mesh3d": [
           {
            "colorbar": {
             "outlinewidth": 0,
             "ticks": ""
            },
            "type": "mesh3d"
           }
          ],
          "parcoords": [
           {
            "line": {
             "colorbar": {
              "outlinewidth": 0,
              "ticks": ""
             }
            },
            "type": "parcoords"
           }
          ],
          "pie": [
           {
            "automargin": true,
            "type": "pie"
           }
          ],
          "scatter": [
           {
            "fillpattern": {
             "fillmode": "overlay",
             "size": 10,
             "solidity": 0.2
            },
            "type": "scatter"
           }
          ],
          "scatter3d": [
           {
            "line": {
             "colorbar": {
              "outlinewidth": 0,
              "ticks": ""
             }
            },
            "marker": {
             "colorbar": {
              "outlinewidth": 0,
              "ticks": ""
             }
            },
            "type": "scatter3d"
           }
          ],
          "scattercarpet": [
           {
            "marker": {
             "colorbar": {
              "outlinewidth": 0,
              "ticks": ""
             }
            },
            "type": "scattercarpet"
           }
          ],
          "scattergeo": [
           {
            "marker": {
             "colorbar": {
              "outlinewidth": 0,
              "ticks": ""
             }
            },
            "type": "scattergeo"
           }
          ],
          "scattergl": [
           {
            "marker": {
             "colorbar": {
              "outlinewidth": 0,
              "ticks": ""
             }
            },
            "type": "scattergl"
           }
          ],
          "scattermap": [
           {
            "marker": {
             "colorbar": {
              "outlinewidth": 0,
              "ticks": ""
             }
            },
            "type": "scattermap"
           }
          ],
          "scattermapbox": [
           {
            "marker": {
             "colorbar": {
              "outlinewidth": 0,
              "ticks": ""
             }
            },
            "type": "scattermapbox"
           }
          ],
          "scatterpolar": [
           {
            "marker": {
             "colorbar": {
              "outlinewidth": 0,
              "ticks": ""
             }
            },
            "type": "scatterpolar"
           }
          ],
          "scatterpolargl": [
           {
            "marker": {
             "colorbar": {
              "outlinewidth": 0,
              "ticks": ""
             }
            },
            "type": "scatterpolargl"
           }
          ],
          "scatterternary": [
           {
            "marker": {
             "colorbar": {
              "outlinewidth": 0,
              "ticks": ""
             }
            },
            "type": "scatterternary"
           }
          ],
          "surface": [
           {
            "colorbar": {
             "outlinewidth": 0,
             "ticks": ""
            },
            "colorscale": [
             [
              0,
              "#0d0887"
             ],
             [
              0.1111111111111111,
              "#46039f"
             ],
             [
              0.2222222222222222,
              "#7201a8"
             ],
             [
              0.3333333333333333,
              "#9c179e"
             ],
             [
              0.4444444444444444,
              "#bd3786"
             ],
             [
              0.5555555555555556,
              "#d8576b"
             ],
             [
              0.6666666666666666,
              "#ed7953"
             ],
             [
              0.7777777777777778,
              "#fb9f3a"
             ],
             [
              0.8888888888888888,
              "#fdca26"
             ],
             [
              1,
              "#f0f921"
             ]
            ],
            "type": "surface"
           }
          ],
          "table": [
           {
            "cells": {
             "fill": {
              "color": "#EBF0F8"
             },
             "line": {
              "color": "white"
             }
            },
            "header": {
             "fill": {
              "color": "#C8D4E3"
             },
             "line": {
              "color": "white"
             }
            },
            "type": "table"
           }
          ]
         },
         "layout": {
          "annotationdefaults": {
           "arrowcolor": "#2a3f5f",
           "arrowhead": 0,
           "arrowwidth": 1
          },
          "autotypenumbers": "strict",
          "coloraxis": {
           "colorbar": {
            "outlinewidth": 0,
            "ticks": ""
           }
          },
          "colorscale": {
           "diverging": [
            [
             0,
             "#8e0152"
            ],
            [
             0.1,
             "#c51b7d"
            ],
            [
             0.2,
             "#de77ae"
            ],
            [
             0.3,
             "#f1b6da"
            ],
            [
             0.4,
             "#fde0ef"
            ],
            [
             0.5,
             "#f7f7f7"
            ],
            [
             0.6,
             "#e6f5d0"
            ],
            [
             0.7,
             "#b8e186"
            ],
            [
             0.8,
             "#7fbc41"
            ],
            [
             0.9,
             "#4d9221"
            ],
            [
             1,
             "#276419"
            ]
           ],
           "sequential": [
            [
             0,
             "#0d0887"
            ],
            [
             0.1111111111111111,
             "#46039f"
            ],
            [
             0.2222222222222222,
             "#7201a8"
            ],
            [
             0.3333333333333333,
             "#9c179e"
            ],
            [
             0.4444444444444444,
             "#bd3786"
            ],
            [
             0.5555555555555556,
             "#d8576b"
            ],
            [
             0.6666666666666666,
             "#ed7953"
            ],
            [
             0.7777777777777778,
             "#fb9f3a"
            ],
            [
             0.8888888888888888,
             "#fdca26"
            ],
            [
             1,
             "#f0f921"
            ]
           ],
           "sequentialminus": [
            [
             0,
             "#0d0887"
            ],
            [
             0.1111111111111111,
             "#46039f"
            ],
            [
             0.2222222222222222,
             "#7201a8"
            ],
            [
             0.3333333333333333,
             "#9c179e"
            ],
            [
             0.4444444444444444,
             "#bd3786"
            ],
            [
             0.5555555555555556,
             "#d8576b"
            ],
            [
             0.6666666666666666,
             "#ed7953"
            ],
            [
             0.7777777777777778,
             "#fb9f3a"
            ],
            [
             0.8888888888888888,
             "#fdca26"
            ],
            [
             1,
             "#f0f921"
            ]
           ]
          },
          "colorway": [
           "#636efa",
           "#EF553B",
           "#00cc96",
           "#ab63fa",
           "#FFA15A",
           "#19d3f3",
           "#FF6692",
           "#B6E880",
           "#FF97FF",
           "#FECB52"
          ],
          "font": {
           "color": "#2a3f5f"
          },
          "geo": {
           "bgcolor": "white",
           "lakecolor": "white",
           "landcolor": "#E5ECF6",
           "showlakes": true,
           "showland": true,
           "subunitcolor": "white"
          },
          "hoverlabel": {
           "align": "left"
          },
          "hovermode": "closest",
          "mapbox": {
           "style": "light"
          },
          "paper_bgcolor": "white",
          "plot_bgcolor": "#E5ECF6",
          "polar": {
           "angularaxis": {
            "gridcolor": "white",
            "linecolor": "white",
            "ticks": ""
           },
           "bgcolor": "#E5ECF6",
           "radialaxis": {
            "gridcolor": "white",
            "linecolor": "white",
            "ticks": ""
           }
          },
          "scene": {
           "xaxis": {
            "backgroundcolor": "#E5ECF6",
            "gridcolor": "white",
            "gridwidth": 2,
            "linecolor": "white",
            "showbackground": true,
            "ticks": "",
            "zerolinecolor": "white"
           },
           "yaxis": {
            "backgroundcolor": "#E5ECF6",
            "gridcolor": "white",
            "gridwidth": 2,
            "linecolor": "white",
            "showbackground": true,
            "ticks": "",
            "zerolinecolor": "white"
           },
           "zaxis": {
            "backgroundcolor": "#E5ECF6",
            "gridcolor": "white",
            "gridwidth": 2,
            "linecolor": "white",
            "showbackground": true,
            "ticks": "",
            "zerolinecolor": "white"
           }
          },
          "shapedefaults": {
           "line": {
            "color": "#2a3f5f"
           }
          },
          "ternary": {
           "aaxis": {
            "gridcolor": "white",
            "linecolor": "white",
            "ticks": ""
           },
           "baxis": {
            "gridcolor": "white",
            "linecolor": "white",
            "ticks": ""
           },
           "bgcolor": "#E5ECF6",
           "caxis": {
            "gridcolor": "white",
            "linecolor": "white",
            "ticks": ""
           }
          },
          "title": {
           "x": 0.05
          },
          "xaxis": {
           "automargin": true,
           "gridcolor": "white",
           "linecolor": "white",
           "ticks": "",
           "title": {
            "standoff": 15
           },
           "zerolinecolor": "white",
           "zerolinewidth": 2
          },
          "yaxis": {
           "automargin": true,
           "gridcolor": "white",
           "linecolor": "white",
           "ticks": "",
           "title": {
            "standoff": 15
           },
           "zerolinecolor": "white",
           "zerolinewidth": 2
          }
         }
        },
        "title": {
         "text": "Cancer Incidence Rate vs Median Income"
        },
        "xaxis": {
         "anchor": "y",
         "domain": [
          0,
          1
         ],
         "title": {
          "text": "Median Income"
         }
        },
        "yaxis": {
         "anchor": "x",
         "domain": [
          0,
          1
         ],
         "title": {
          "text": "Cancer Incidence Rate"
         }
        }
       }
      }
     },
     "metadata": {},
     "output_type": "display_data"
    }
   ],
   "source": [
    "# Scatter plot - Median income vs Cancer Incidence Rate\n",
    "fig4 = px.scatter(df_cancer_reg, \n",
    "                  x='medincome',\n",
    "                  y='incidencerate', \n",
    "                  title='Cancer Incidence Rate vs Median Income',\n",
    "                  labels={'medincome': 'Median Income', 'incidencerate': 'Cancer Incidence Rate'},\n",
    "                  color='incidencerate',\n",
    "                  color_continuous_scale='Viridis')\n",
    "fig4.show()\n"
   ]
  },
  {
   "cell_type": "code",
   "execution_count": 16,
   "id": "bb1c1c26",
   "metadata": {},
   "outputs": [
    {
     "data": {
      "image/png": "[encoded data removed]",
      "text/plain": [
       "<Figure size 800x600 with 1 Axes>"
      ]
     },
     "metadata": {
      "image/png": {
       "height": 546,
       "width": 695
      }
     },
     "output_type": "display_data"
    }
   ],
   "source": [
    "import plotly.express as px\n",
    "import numpy as np\n",
    "import matplotlib.pyplot as plt\n",
    "import seaborn as sns\n",
    "\n",
    "# Check correlation coefficient\n",
    "correlation, p_value = stats.pearsonr(df_cancer_reg['medincome'], df_cancer_reg['incidencerate'])\n",
    "\n",
    "# Create scatter plot with regression line to visually show lack of correlation\n",
    "plt.figure(figsize=(8,6))\n",
    "sns.regplot(x=df_cancer_reg['medincome'], y=df_cancer_reg['incidencerate'], scatter_kws={'alpha':0.5}, line_kws={\"color\":\"red\"})\n",
    "plt.xlabel('Median Income ($)')\n",
    "plt.ylabel('Cancer Cases per 100,000 People')\n",
    "plt.title(f'Correlation Analysis: r = {correlation:.2f}, p-value = {p_value:.3f}')\n",
    "plt.grid(True)\n",
    "\n",
    "# Show the plot\n",
    "plt.show()"
   ]
  },
  {
   "cell_type": "markdown",
   "id": "1e8a0305",
   "metadata": {},
   "source": [
    "### How fast are diseases declining?"
   ]
  },
  {
   "cell_type": "markdown",
   "id": "add91d4e",
   "metadata": {},
   "source": [
    "## **4. Cancer Rates Around the World**"
   ]
  },
  {
   "cell_type": "code",
   "execution_count": 17,
   "id": "1fb885dd",
   "metadata": {},
   "outputs": [
    {
     "data": {
      "application/vnd.plotly.v1+json": {
       "config": {
        "plotlyServerURL": "https://plot.ly"
       },
       "data": [
        {
         "hovertemplate": "Median Age=%{x}<br>Average Deaths per Year=%{y}<extra></extra>",
         "legendgroup": "",
         "marker": {
          "color": "#636efa",
          "pattern": {
           "shape": ""
          }
         },
         "name": "",
         "orientation": "v",
         "showlegend": false,
         "textposition": "auto",
         "type": "bar",
         "x": {
          "bdata": "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",
          "dtype": "f8"
         },
         "xaxis": "x",
         "y": {
          "bdata": "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",
          "dtype": "i2"
         },
         "yaxis": "y"
        }
       ],
       "layout": {
        "barmode": "relative",
        "legend": {
         "tracegroupgap": 0
        },
        "template": {
         "data": {
          "bar": [
           {
            "error_x": {
             "color": "#2a3f5f"
            },
            "error_y": {
             "color": "#2a3f5f"
            },
            "marker": {
             "line": {
              "color": "#E5ECF6",
              "width": 0.5
             },
             "pattern": {
              "fillmode": "overlay",
              "size": 10,
              "solidity": 0.2
             }
            },
            "type": "bar"
           }
          ],
          "barpolar": [
           {
            "marker": {
             "line": {
              "color": "#E5ECF6",
              "width": 0.5
             },
             "pattern": {
              "fillmode": "overlay",
              "size": 10,
              "solidity": 0.2
             }
            },
            "type": "barpolar"
           }
          ],
          "carpet": [
           {
            "aaxis": {
             "endlinecolor": "#2a3f5f",
             "gridcolor": "white",
             "linecolor": "white",
             "minorgridcolor": "white",
             "startlinecolor": "#2a3f5f"
            },
            "baxis": {
             "endlinecolor": "#2a3f5f",
             "gridcolor": "white",
             "linecolor": "white",
             "minorgridcolor": "white",
             "startlinecolor": "#2a3f5f"
            },
            "type": "carpet"
           }
          ],
          "choropleth": [
           {
            "colorbar": {
             "outlinewidth": 0,
             "ticks": ""
            },
            "type": "choropleth"
           }
          ],
          "contour": [
           {
            "colorbar": {
             "outlinewidth": 0,
             "ticks": ""
            },
            "colorscale": [
             [
              0,
              "#0d0887"
             ],
             [
              0.1111111111111111,
              "#46039f"
             ],
             [
              0.2222222222222222,
              "#7201a8"
             ],
             [
              0.3333333333333333,
              "#9c179e"
             ],
             [
              0.4444444444444444,
              "#bd3786"
             ],
             [
              0.5555555555555556,
              "#d8576b"
             ],
             [
              0.6666666666666666,
              "#ed7953"
             ],
             [
              0.7777777777777778,
              "#fb9f3a"
             ],
             [
              0.8888888888888888,
              "#fdca26"
             ],
             [
              1,
              "#f0f921"
             ]
            ],
            "type": "contour"
           }
          ],
          "contourcarpet": [
           {
            "colorbar": {
             "outlinewidth": 0,
             "ticks": ""
            },
            "type": "contourcarpet"
           }
          ],
          "heatmap": [
           {
            "colorbar": {
             "outlinewidth": 0,
             "ticks": ""
            },
            "colorscale": [
             [
              0,
              "#0d0887"
             ],
             [
              0.1111111111111111,
              "#46039f"
             ],
             [
              0.2222222222222222,
              "#7201a8"
             ],
             [
              0.3333333333333333,
              "#9c179e"
             ],
             [
              0.4444444444444444,
              "#bd3786"
             ],
             [
              0.5555555555555556,
              "#d8576b"
             ],
             [
              0.6666666666666666,
              "#ed7953"
             ],
             [
              0.7777777777777778,
              "#fb9f3a"
             ],
             [
              0.8888888888888888,
              "#fdca26"
             ],
             [
              1,
              "#f0f921"
             ]
            ],
            "type": "heatmap"
           }
          ],
          "histogram": [
           {
            "marker": {
             "pattern": {
              "fillmode": "overlay",
              "size": 10,
              "solidity": 0.2
             }
            },
            "type": "histogram"
           }
          ],
          "histogram2d": [
           {
            "colorbar": {
             "outlinewidth": 0,
             "ticks": ""
            },
            "colorscale": [
             [
              0,
              "#0d0887"
             ],
             [
              0.1111111111111111,
              "#46039f"
             ],
             [
              0.2222222222222222,
              "#7201a8"
             ],
             [
              0.3333333333333333,
              "#9c179e"
             ],
             [
              0.4444444444444444,
              "#bd3786"
             ],
             [
              0.5555555555555556,
              "#d8576b"
             ],
             [
              0.6666666666666666,
              "#ed7953"
             ],
             [
              0.7777777777777778,
              "#fb9f3a"
             ],
             [
              0.8888888888888888,
              "#fdca26"
             ],
             [
              1,
              "#f0f921"
             ]
            ],
            "type": "histogram2d"
           }
          ],
          "histogram2dcontour": [
           {
            "colorbar": {
             "outlinewidth": 0,
             "ticks": ""
            },
            "colorscale": [
             [
              0,
              "#0d0887"
             ],
             [
              0.1111111111111111,
              "#46039f"
             ],
             [
              0.2222222222222222,
              "#7201a8"
             ],
             [
              0.3333333333333333,
              "#9c179e"
             ],
             [
              0.4444444444444444,
              "#bd3786"
             ],
             [
              0.5555555555555556,
              "#d8576b"
             ],
             [
              0.6666666666666666,
              "#ed7953"
             ],
             [
              0.7777777777777778,
              "#fb9f3a"
             ],
             [
              0.8888888888888888,
              "#fdca26"
             ],
             [
              1,
              "#f0f921"
             ]
            ],
            "type": "histogram2dcontour"
           }
          ],
          "mesh3d": [
           {
            "colorbar": {
             "outlinewidth": 0,
             "ticks": ""
            },
            "type": "mesh3d"
           }
          ],
          "parcoords": [
           {
            "line": {
             "colorbar": {
              "outlinewidth": 0,
              "ticks": ""
             }
            },
            "type": "parcoords"
           }
          ],
          "pie": [
           {
            "automargin": true,
            "type": "pie"
           }
          ],
          "scatter": [
           {
            "fillpattern": {
             "fillmode": "overlay",
             "size": 10,
             "solidity": 0.2
            },
            "type": "scatter"
           }
          ],
          "scatter3d": [
           {
            "line": {
             "colorbar": {
              "outlinewidth": 0,
              "ticks": ""
             }
            },
            "marker": {
             "colorbar": {
              "outlinewidth": 0,
              "ticks": ""
             }
            },
            "type": "scatter3d"
           }
          ],
          "scattercarpet": [
           {
            "marker": {
             "colorbar": {
              "outlinewidth": 0,
              "ticks": ""
             }
            },
            "type": "scattercarpet"
           }
          ],
          "scattergeo": [
           {
            "marker": {
             "colorbar": {
              "outlinewidth": 0,
              "ticks": ""
             }
            },
            "type": "scattergeo"
           }
          ],
          "scattergl": [
           {
            "marker": {
             "colorbar": {
              "outlinewidth": 0,
              "ticks": ""
             }
            },
            "type": "scattergl"
           }
          ],
          "scattermap": [
           {
            "marker": {
             "colorbar": {
              "outlinewidth": 0,
              "ticks": ""
             }
            },
            "type": "scattermap"
           }
          ],
          "scattermapbox": [
           {
            "marker": {
             "colorbar": {
              "outlinewidth": 0,
              "ticks": ""
             }
            },
            "type": "scattermapbox"
           }
          ],
          "scatterpolar": [
           {
            "marker": {
             "colorbar": {
              "outlinewidth": 0,
              "ticks": ""
             }
            },
            "type": "scatterpolar"
           }
          ],
          "scatterpolargl": [
           {
            "marker": {
             "colorbar": {
              "outlinewidth": 0,
              "ticks": ""
             }
            },
            "type": "scatterpolargl"
           }
          ],
          "scatterternary": [
           {
            "marker": {
             "colorbar": {
              "outlinewidth": 0,
              "ticks": ""
             }
            },
            "type": "scatterternary"
           }
          ],
          "surface": [
           {
            "colorbar": {
             "outlinewidth": 0,
             "ticks": ""
            },
            "colorscale": [
             [
              0,
              "#0d0887"
             ],
             [
              0.1111111111111111,
              "#46039f"
             ],
             [
              0.2222222222222222,
              "#7201a8"
             ],
             [
              0.3333333333333333,
              "#9c179e"
             ],
             [
              0.4444444444444444,
              "#bd3786"
             ],
             [
              0.5555555555555556,
              "#d8576b"
             ],
             [
              0.6666666666666666,
              "#ed7953"
             ],
             [
              0.7777777777777778,
              "#fb9f3a"
             ],
             [
              0.8888888888888888,
              "#fdca26"
             ],
             [
              1,
              "#f0f921"
             ]
            ],
            "type": "surface"
           }
          ],
          "table": [
           {
            "cells": {
             "fill": {
              "color": "#EBF0F8"
             },
             "line": {
              "color": "white"
             }
            },
            "header": {
             "fill": {
              "color": "#C8D4E3"
             },
             "line": {
              "color": "white"
             }
            },
            "type": "table"
           }
          ]
         },
         "layout": {
          "annotationdefaults": {
           "arrowcolor": "#2a3f5f",
           "arrowhead": 0,
           "arrowwidth": 1
          },
          "autotypenumbers": "strict",
          "coloraxis": {
           "colorbar": {
            "outlinewidth": 0,
            "ticks": ""
           }
          },
          "colorscale": {
           "diverging": [
            [
             0,
             "#8e0152"
            ],
            [
             0.1,
             "#c51b7d"
            ],
            [
             0.2,
             "#de77ae"
            ],
            [
             0.3,
             "#f1b6da"
            ],
            [
             0.4,
             "#fde0ef"
            ],
            [
             0.5,
             "#f7f7f7"
            ],
            [
             0.6,
             "#e6f5d0"
            ],
            [
             0.7,
             "#b8e186"
            ],
            [
             0.8,
             "#7fbc41"
            ],
            [
             0.9,
             "#4d9221"
            ],
            [
             1,
             "#276419"
            ]
           ],
           "sequential": [
            [
             0,
             "#0d0887"
            ],
            [
             0.1111111111111111,
             "#46039f"
            ],
            [
             0.2222222222222222,
             "#7201a8"
            ],
            [
             0.3333333333333333,
             "#9c179e"
            ],
            [
             0.4444444444444444,
             "#bd3786"
            ],
            [
             0.5555555555555556,
             "#d8576b"
            ],
            [
             0.6666666666666666,
             "#ed7953"
            ],
            [
             0.7777777777777778,
             "#fb9f3a"
            ],
            [
             0.8888888888888888,
             "#fdca26"
            ],
            [
             1,
             "#f0f921"
            ]
           ],
           "sequentialminus": [
            [
             0,
             "#0d0887"
            ],
            [
             0.1111111111111111,
             "#46039f"
            ],
            [
             0.2222222222222222,
             "#7201a8"
            ],
            [
             0.3333333333333333,
             "#9c179e"
            ],
            [
             0.4444444444444444,
             "#bd3786"
            ],
            [
             0.5555555555555556,
             "#d8576b"
            ],
            [
             0.6666666666666666,
             "#ed7953"
            ],
            [
             0.7777777777777778,
             "#fb9f3a"
            ],
            [
             0.8888888888888888,
             "#fdca26"
            ],
            [
             1,
             "#f0f921"
            ]
           ]
          },
          "colorway": [
           "#636efa",
           "#EF553B",
           "#00cc96",
           "#ab63fa",
           "#FFA15A",
           "#19d3f3",
           "#FF6692",
           "#B6E880",
           "#FF97FF",
           "#FECB52"
          ],
          "font": {
           "color": "#2a3f5f"
          },
          "geo": {
           "bgcolor": "white",
           "lakecolor": "white",
           "landcolor": "#E5ECF6",
           "showlakes": true,
           "showland": true,
           "subunitcolor": "white"
          },
          "hoverlabel": {
           "align": "left"
          },
          "hovermode": "closest",
          "mapbox": {
           "style": "light"
          },
          "paper_bgcolor": "white",
          "plot_bgcolor": "#E5ECF6",
          "polar": {
           "angularaxis": {
            "gridcolor": "white",
            "linecolor": "white",
            "ticks": ""
           },
           "bgcolor": "#E5ECF6",
           "radialaxis": {
            "gridcolor": "white",
            "linecolor": "white",
            "ticks": ""
           }
          },
          "scene": {
           "xaxis": {
            "backgroundcolor": "#E5ECF6",
            "gridcolor": "white",
            "gridwidth": 2,
            "linecolor": "white",
            "showbackground": true,
            "ticks": "",
            "zerolinecolor": "white"
           },
           "yaxis": {
            "backgroundcolor": "#E5ECF6",
            "gridcolor": "white",
            "gridwidth": 2,
            "linecolor": "white",
            "showbackground": true,
            "ticks": "",
            "zerolinecolor": "white"
           },
           "zaxis": {
            "backgroundcolor": "#E5ECF6",
            "gridcolor": "white",
            "gridwidth": 2,
            "linecolor": "white",
            "showbackground": true,
            "ticks": "",
            "zerolinecolor": "white"
           }
          },
          "shapedefaults": {
           "line": {
            "color": "#2a3f5f"
           }
          },
          "ternary": {
           "aaxis": {
            "gridcolor": "white",
            "linecolor": "white",
            "ticks": ""
           },
           "baxis": {
            "gridcolor": "white",
            "linecolor": "white",
            "ticks": ""
           },
           "bgcolor": "#E5ECF6",
           "caxis": {
            "gridcolor": "white",
            "linecolor": "white",
            "ticks": ""
           }
          },
          "title": {
           "x": 0.05
          },
          "xaxis": {
           "automargin": true,
           "gridcolor": "white",
           "linecolor": "white",
           "ticks": "",
           "title": {
            "standoff": 15
           },
           "zerolinecolor": "white",
           "zerolinewidth": 2
          },
          "yaxis": {
           "automargin": true,
           "gridcolor": "white",
           "linecolor": "white",
           "ticks": "",
           "title": {
            "standoff": 15
           },
           "zerolinecolor": "white",
           "zerolinewidth": 2
          }
         }
        },
        "title": {
         "text": "Average Deaths per Year vs Median Age (0-100)"
        },
        "xaxis": {
         "anchor": "y",
         "domain": [
          0,
          1
         ],
         "title": {
          "text": "Median Age"
         }
        },
        "yaxis": {
         "anchor": "x",
         "domain": [
          0,
          1
         ],
         "title": {
          "text": "Average Deaths per Year"
         }
        }
       }
      }
     },
     "metadata": {},
     "output_type": "display_data"
    }
   ],
   "source": [
    "# Line chart - Average deaths per year vs median age (focused on 0-100)\n",
    "fig7 = px.bar(df_cancer_reg[df_cancer_reg['medianage'] <= 100].sort_values(by='medianage'), \n",
    "               x='medianage', \n",
    "               y='avgdeathsperyear', \n",
    "               title='Average Deaths per Year vs Median Age (0-100)',\n",
    "               labels={'medianage': 'Median Age', 'avgdeathsperyear': 'Average Deaths per Year'})\n",
    "fig7.show()\n"
   ]
  },
  {
   "cell_type": "code",
   "execution_count": 18,
   "id": "72cd75b5",
   "metadata": {},
   "outputs": [
    {
     "data": {
      "application/vnd.plotly.v1+json": {
       "config": {
        "plotlyServerURL": "https://plot.ly"
       },
       "data": [
        {
         "coloraxis": "coloraxis",
         "geo": "geo",
         "hovertemplate": "Year=2000<br>country=%{location}<br>Cancer Rate (per 100k)=%{z}<extra></extra>",
         "locationmode": "country names",
         "locations": [
          "Afghanistan",
          "Albania",
          "Algeria",
          "Angola",
          "Argentina",
          "Australia",
          "Austria",
          "Bahrain",
          "Bangladesh",
          "Belgium",
          "Benin",
          "Bolivia",
          "Bosnia and Herzegovina",
          "Botswana",
          "Brazil",
          "Bulgaria",
          "Burkina Faso",
          "Burundi",
          "Cambodia",
          "Cameroon",
          "Canada",
          "Central African Republic",
          "Chad",
          "Chile",
          "China",
          "Colombia",
          "Comoros",
          "Congo, Dem. Rep.",
          "Congo, Rep.",
          "Costa Rica",
          "Cote d'Ivoire",
          "Croatia",
          "Cuba",
          "Czech Republic",
          "Denmark",
          "Djibouti",
          "Dominican Republic",
          "Ecuador",
          "Egypt",
          "El Salvador",
          "Equatorial Guinea",
          "Eritrea",
          "Ethiopia",
          "Finland",
          "France",
          "Gabon",
          "Gambia",
          "Germany",
          "Ghana",
          "Greece",
          "Guatemala",
          "Guinea",
          "Guinea-Bissau",
          "Haiti",
          "Honduras",
          "Hong Kong, China",
          "Hungary",
          "Iceland",
          "India",
          "Indonesia",
          "Iran",
          "Iraq",
          "Ireland",
          "Israel",
          "Italy",
          "Jamaica",
          "Japan",
          "Jordan",
          "Kenya",
          "Korea, Dem. Rep.",
          "Korea, Rep.",
          "Kuwait",
          "Lebanon",
          "Lesotho",
          "Liberia",
          "Libya",
          "Madagascar",
          "Malawi",
          "Malaysia",
          "Mali",
          "Mauritania",
          "Mauritius",
          "Mexico",
          "Mongolia",
          "Montenegro",
          "Morocco",
          "Mozambique",
          "Myanmar",
          "Namibia",
          "Nepal",
          "Netherlands",
          "New Zealand",
          "Nicaragua",
          "Niger",
          "Nigeria",
          "Norway",
          "Oman",
          "Pakistan",
          "Panama",
          "Paraguay",
          "Peru",
          "Philippines",
          "Poland",
          "Portugal",
          "Puerto Rico",
          "Reunion",
          "Romania",
          "Rwanda",
          "Sao Tome and Principe",
          "Saudi Arabia",
          "Senegal",
          "Serbia",
          "Sierra Leone",
          "Singapore",
          "Slovak Republic",
          "Slovenia",
          "Somalia",
          "South Africa",
          "Spain",
          "Sri Lanka",
          "Sudan",
          "Swaziland",
          "Sweden",
          "Switzerland",
          "Syria",
          "Taiwan",
          "Tanzania",
          "Thailand",
          "Togo",
          "Trinidad and Tobago",
          "Tunisia",
          "Turkey",
          "Uganda",
          "United Kingdom",
          "United States",
          "Uruguay",
          "Venezuela",
          "Vietnam",
          "West Bank and Gaza",
          "Yemen, Rep.",
          "Zambia",
          "Zimbabwe"
         ],
         "name": "",
         "type": "choropleth",
         "z": {
          "bdata": "dAA6ANoATAFJAdoAcwA6AHkB0wCDAU8AsAC9ADUBYgFfAdgA+AAFAdMALgHZAK4AZgAqAWwAHwHuAPMAnwDuAOAAYgAcAWQAhAFqAI4AnwDmAMEAGgGAAWAASwCOAVYB1gCCAK8AJgHfAEYAewHbALAAqwDQAKcA5QCNAfEAPgCIAcUAfAD8ANYA9wByAK0AOgEjAVcBwwBTAX4AcQDtAGwBHwGcAFEBZgCCAIkApwAAAaAAiAFCADMBewCWAJQAvwBBAG8A/gAuAUwACwEdAUQB3gCUANcAIAFYAKYAOgCBAQwBOQGBASsBbQF4AR0BswDiADsBGAGrAHQB+AA4AREBQgCjAOAA1QA2AFMBfQFHAM4A4wB5APAApwA=",
          "dtype": "i2"
         }
        }
       ],
       "frames": [
        {
         "data": [
          {
           "coloraxis": "coloraxis",
           "geo": "geo",
           "hovertemplate": "Year=2000<br>country=%{location}<br>Cancer Rate (per 100k)=%{z}<extra></extra>",
           "locationmode": "country names",
           "locations": [
            "Afghanistan",
            "Albania",
            "Algeria",
            "Angola",
            "Argentina",
            "Australia",
            "Austria",
            "Bahrain",
            "Bangladesh",
            "Belgium",
            "Benin",
            "Bolivia",
            "Bosnia and Herzegovina",
            "Botswana",
            "Brazil",
            "Bulgaria",
            "Burkina Faso",
            "Burundi",
            "Cambodia",
            "Cameroon",
            "Canada",
            "Central African Republic",
            "Chad",
            "Chile",
            "China",
            "Colombia",
            "Comoros",
            "Congo, Dem. Rep.",
            "Congo, Rep.",
            "Costa Rica",
            "Cote d'Ivoire",
            "Croatia",
            "Cuba",
            "Czech Republic",
            "Denmark",
            "Djibouti",
            "Dominican Republic",
            "Ecuador",
            "Egypt",
            "El Salvador",
            "Equatorial Guinea",
            "Eritrea",
            "Ethiopia",
            "Finland",
            "France",
            "Gabon",
            "Gambia",
            "Germany",
            "Ghana",
            "Greece",
            "Guatemala",
            "Guinea",
            "Guinea-Bissau",
            "Haiti",
            "Honduras",
            "Hong Kong, China",
            "Hungary",
            "Iceland",
            "India",
            "Indonesia",
            "Iran",
            "Iraq",
            "Ireland",
            "Israel",
            "Italy",
            "Jamaica",
            "Japan",
            "Jordan",
            "Kenya",
            "Korea, Dem. Rep.",
            "Korea, Rep.",
            "Kuwait",
            "Lebanon",
            "Lesotho",
            "Liberia",
            "Libya",
            "Madagascar",
            "Malawi",
            "Malaysia",
            "Mali",
            "Mauritania",
            "Mauritius",
            "Mexico",
            "Mongolia",
            "Montenegro",
            "Morocco",
            "Mozambique",
            "Myanmar",
            "Namibia",
            "Nepal",
            "Netherlands",
            "New Zealand",
            "Nicaragua",
            "Niger",
            "Nigeria",
            "Norway",
            "Oman",
            "Pakistan",
            "Panama",
            "Paraguay",
            "Peru",
            "Philippines",
            "Poland",
            "Portugal",
            "Puerto Rico",
            "Reunion",
            "Romania",
            "Rwanda",
            "Sao Tome and Principe",
            "Saudi Arabia",
            "Senegal",
            "Serbia",
            "Sierra Leone",
            "Singapore",
            "Slovak Republic",
            "Slovenia",
            "Somalia",
            "South Africa",
            "Spain",
            "Sri Lanka",
            "Sudan",
            "Swaziland",
            "Sweden",
            "Switzerland",
            "Syria",
            "Taiwan",
            "Tanzania",
            "Thailand",
            "Togo",
            "Trinidad and Tobago",
            "Tunisia",
            "Turkey",
            "Uganda",
            "United Kingdom",
            "United States",
            "Uruguay",
            "Venezuela",
            "Vietnam",
            "West Bank and Gaza",
            "Yemen, Rep.",
            "Zambia",
            "Zimbabwe"
           ],
           "name": "",
           "type": "choropleth",
           "z": {
            "bdata": "dAA6ANoATAFJAdoAcwA6AHkB0wCDAU8AsAC9ADUBYgFfAdgA+AAFAdMALgHZAK4AZgAqAWwAHwHuAPMAnwDuAOAAYgAcAWQAhAFqAI4AnwDmAMEAGgGAAWAASwCOAVYB1gCCAK8AJgHfAEYAewHbALAAqwDQAKcA5QCNAfEAPgCIAcUAfAD8ANYA9wByAK0AOgEjAVcBwwBTAX4AcQDtAGwBHwGcAFEBZgCCAIkApwAAAaAAiAFCADMBewCWAJQAvwBBAG8A/gAuAUwACwEdAUQB3gCUANcAIAFYAKYAOgCBAQwBOQGBASsBbQF4AR0BswDiADsBGAGrAHQB+AA4AREBQgCjAOAA1QA2AFMBfQFHAM4A4wB5APAApwA=",
            "dtype": "i2"
           }
          }
         ],
         "name": "2000"
        },
        {
         "data": [
          {
           "coloraxis": "coloraxis",
           "geo": "geo",
           "hovertemplate": "Year=2001<br>country=%{location}<br>Cancer Rate (per 100k)=%{z}<extra></extra>",
           "locationmode": "country names",
           "locations": [
            "Afghanistan",
            "Albania",
            "Algeria",
            "Angola",
            "Argentina",
            "Australia",
            "Austria",
            "Bahrain",
            "Bangladesh",
            "Belgium",
            "Benin",
            "Bolivia",
            "Bosnia and Herzegovina",
            "Botswana",
            "Brazil",
            "Bulgaria",
            "Burkina Faso",
            "Burundi",
            "Cambodia",
            "Cameroon",
            "Canada",
            "Central African Republic",
            "Chad",
            "Chile",
            "China",
            "Colombia",
            "Comoros",
            "Congo, Dem. Rep.",
            "Congo, Rep.",
            "Costa Rica",
            "Cote d'Ivoire",
            "Croatia",
            "Cuba",
            "Czech Republic",
            "Denmark",
            "Djibouti",
            "Dominican Republic",
            "Ecuador",
            "Egypt",
            "El Salvador",
            "Equatorial Guinea",
            "Eritrea",
            "Ethiopia",
            "Finland",
            "France",
            "Gabon",
            "Gambia",
            "Germany",
            "Ghana",
            "Greece",
            "Guatemala",
            "Guinea",
            "Guinea-Bissau",
            "Haiti",
            "Honduras",
            "Hong Kong, China",
            "Hungary",
            "Iceland",
            "India",
            "Indonesia",
            "Iran",
            "Iraq",
            "Ireland",
            "Israel",
            "Italy",
            "Jamaica",
            "Japan",
            "Jordan",
            "Kenya",
            "Korea, Dem. Rep.",
            "Korea, Rep.",
            "Kuwait",
            "Lebanon",
            "Lesotho",
            "Liberia",
            "Libya",
            "Madagascar",
            "Malawi",
            "Malaysia",
            "Mali",
            "Mauritania",
            "Mauritius",
            "Mexico",
            "Mongolia",
            "Montenegro",
            "Morocco",
            "Mozambique",
            "Myanmar",
            "Namibia",
            "Nepal",
            "Netherlands",
            "New Zealand",
            "Nicaragua",
            "Niger",
            "Nigeria",
            "Norway",
            "Oman",
            "Pakistan",
            "Panama",
            "Paraguay",
            "Peru",
            "Philippines",
            "Poland",
            "Portugal",
            "Puerto Rico",
            "Reunion",
            "Romania",
            "Rwanda",
            "Sao Tome and Principe",
            "Saudi Arabia",
            "Senegal",
            "Serbia",
            "Sierra Leone",
            "Singapore",
            "Slovak Republic",
            "Slovenia",
            "Somalia",
            "South Africa",
            "Spain",
            "Sri Lanka",
            "Sudan",
            "Swaziland",
            "Sweden",
            "Switzerland",
            "Syria",
            "Taiwan",
            "Tanzania",
            "Thailand",
            "Togo",
            "Trinidad and Tobago",
            "Tunisia",
            "Turkey",
            "Uganda",
            "United Kingdom",
            "United States",
            "Uruguay",
            "Venezuela",
            "Vietnam",
            "West Bank and Gaza",
            "Yemen, Rep.",
            "Zambia",
            "Zimbabwe"
           ],
           "name": "",
           "type": "choropleth",
           "z": {
            "bdata": "dgGbAGUAQgFxANYAZABGADABnABOAeQAcQBLAOoAQQGJAUABlABBAVIA6gCOAf8AegHcAEcBTwA0ARMBbwFpAY0B4QAPAVYApQCRAPIAvABZAOEAQgBZAHYB+QBlATsBRQFeAAIBPgAMATYBRwE5AKcAOQAbAVABqQA9AFUBVwDBABgBgwEEAU8BuQACAaYAtAA5AKgASwFLAAMBLgHhABoBGQHAAM0AIQFSAIkASADtAMIAvgD+AIABtwCCAd0A6gA1AEIASACPAcAAMAFIAd4AdQCuAD8A6gBmAGMBQgBmAMIAxADHAP8AFwHKAJgAnQBmABoBugBRADwArQBXAF0BQgHVAFgB6QA0AL4AewBGAA4BJwE2AGABYgE=",
            "dtype": "i2"
           }
          }
         ],
         "name": "2001"
        },
        {
         "data": [
          {
           "coloraxis": "coloraxis",
           "geo": "geo",
           "hovertemplate": "Year=2002<br>country=%{location}<br>Cancer Rate (per 100k)=%{z}<extra></extra>",
           "locationmode": "country names",
           "locations": [
            "Afghanistan",
            "Albania",
            "Algeria",
            "Angola",
            "Argentina",
            "Australia",
            "Austria",
            "Bahrain",
            "Bangladesh",
            "Belgium",
            "Benin",
            "Bolivia",
            "Bosnia and Herzegovina",
            "Botswana",
            "Brazil",
            "Bulgaria",
            "Burkina Faso",
            "Burundi",
            "Cambodia",
            "Cameroon",
            "Canada",
            "Central African Republic",
            "Chad",
            "Chile",
            "China",
            "Colombia",
            "Comoros",
            "Congo, Dem. Rep.",
            "Congo, Rep.",
            "Costa Rica",
            "Cote d'Ivoire",
            "Croatia",
            "Cuba",
            "Czech Republic",
            "Denmark",
            "Djibouti",
            "Dominican Republic",
            "Ecuador",
            "Egypt",
            "El Salvador",
            "Equatorial Guinea",
            "Eritrea",
            "Ethiopia",
            "Finland",
            "France",
            "Gabon",
            "Gambia",
            "Germany",
            "Ghana",
            "Greece",
            "Guatemala",
            "Guinea",
            "Guinea-Bissau",
            "Haiti",
            "Honduras",
            "Hong Kong, China",
            "Hungary",
            "Iceland",
            "India",
            "Indonesia",
            "Iran",
            "Iraq",
            "Ireland",
            "Israel",
            "Italy",
            "Jamaica",
            "Japan",
            "Jordan",
            "Kenya",
            "Korea, Dem. Rep.",
            "Korea, Rep.",
            "Kuwait",
            "Lebanon",
            "Lesotho",
            "Liberia",
            "Libya",
            "Madagascar",
            "Malawi",
            "Malaysia",
            "Mali",
            "Mauritania",
            "Mauritius",
            "Mexico",
            "Mongolia",
            "Montenegro",
            "Morocco",
            "Mozambique",
            "Myanmar",
            "Namibia",
            "Nepal",
            "Netherlands",
            "New Zealand",
            "Nicaragua",
            "Niger",
            "Nigeria",
            "Norway",
            "Oman",
            "Pakistan",
            "Panama",
            "Paraguay",
            "Peru",
            "Philippines",
            "Poland",
            "Portugal",
            "Puerto Rico",
            "Reunion",
            "Romania",
            "Rwanda",
            "Sao Tome and Principe",
            "Saudi Arabia",
            "Senegal",
            "Serbia",
            "Sierra Leone",
            "Singapore",
            "Slovak Republic",
            "Slovenia",
            "Somalia",
            "South Africa",
            "Spain",
            "Sri Lanka",
            "Sudan",
            "Swaziland",
            "Sweden",
            "Switzerland",
            "Syria",
            "Taiwan",
            "Tanzania",
            "Thailand",
            "Togo",
            "Trinidad and Tobago",
            "Tunisia",
            "Turkey",
            "Uganda",
            "United Kingdom",
            "United States",
            "Uruguay",
            "Venezuela",
            "Vietnam",
            "West Bank and Gaza",
            "Yemen, Rep.",
            "Zambia",
            "Zimbabwe"
           ],
           "name": "",
           "type": "choropleth",
           "z": {
            "bdata": "SwA5AMcAVAFuALwAEQFWARUBDQFnAPMAewGOAOQAPQE6ABMB5wAzAXQBIAFTATwAyABRAcYAPAEyAEQBNgFVAW8BdQCIAAwBMwG7ADYBeABhAWEAewC2AK8AiABLAWgA5gAzAGwBqQBXAH4AWwD+AE8A1AAPAU8AnAAIAXwBWQCHACgB9gCLAGoA5gBeAYcATwErAZoA5QDBAD0BXwCBAN8A5ACNAWcBegDMAFEBdgFGAVQASgF6Ac4ATwGYAFABEQFnAX4ABwE8AUMBhQDfAMEAjgFyAfoAVABeAIQAZAA6AUQAAQGyAHMBqQDEAGgBuwDVAIABVAAlAYUB5QDjAI4BTQH5AD0BDAGeAMMAjgFnAIABKQFGAWkAjAA=",
            "dtype": "i2"
           }
          }
         ],
         "name": "2002"
        },
        {
         "data": [
          {
           "coloraxis": "coloraxis",
           "geo": "geo",
           "hovertemplate": "Year=2003<br>country=%{location}<br>Cancer Rate (per 100k)=%{z}<extra></extra>",
           "locationmode": "country names",
           "locations": [
            "Afghanistan",
            "Albania",
            "Algeria",
            "Angola",
            "Argentina",
            "Australia",
            "Austria",
            "Bahrain",
            "Bangladesh",
            "Belgium",
            "Benin",
            "Bolivia",
            "Bosnia and Herzegovina",
            "Botswana",
            "Brazil",
            "Bulgaria",
            "Burkina Faso",
            "Burundi",
            "Cambodia",
            "Cameroon",
            "Canada",
            "Central African Republic",
            "Chad",
            "Chile",
            "China",
            "Colombia",
            "Comoros",
            "Congo, Dem. Rep.",
            "Congo, Rep.",
            "Costa Rica",
            "Cote d'Ivoire",
            "Croatia",
            "Cuba",
            "Czech Republic",
            "Denmark",
            "Djibouti",
            "Dominican Republic",
            "Ecuador",
            "Egypt",
            "El Salvador",
            "Equatorial Guinea",
            "Eritrea",
            "Ethiopia",
            "Finland",
            "France",
            "Gabon",
            "Gambia",
            "Germany",
            "Ghana",
            "Greece",
            "Guatemala",
            "Guinea",
            "Guinea-Bissau",
            "Haiti",
            "Honduras",
            "Hong Kong, China",
            "Hungary",
            "Iceland",
            "India",
            "Indonesia",
            "Iran",
            "Iraq",
            "Ireland",
            "Israel",
            "Italy",
            "Jamaica",
            "Japan",
            "Jordan",
            "Kenya",
            "Korea, Dem. Rep.",
            "Korea, Rep.",
            "Kuwait",
            "Lebanon",
            "Lesotho",
            "Liberia",
            "Libya",
            "Madagascar",
            "Malawi",
            "Malaysia",
            "Mali",
            "Mauritania",
            "Mauritius",
            "Mexico",
            "Mongolia",
            "Montenegro",
            "Morocco",
            "Mozambique",
            "Myanmar",
            "Namibia",
            "Nepal",
            "Netherlands",
            "New Zealand",
            "Nicaragua",
            "Niger",
            "Nigeria",
            "Norway",
            "Oman",
            "Pakistan",
            "Panama",
            "Paraguay",
            "Peru",
            "Philippines",
            "Poland",
            "Portugal",
            "Puerto Rico",
            "Reunion",
            "Romania",
            "Rwanda",
            "Sao Tome and Principe",
            "Saudi Arabia",
            "Senegal",
            "Serbia",
            "Sierra Leone",
            "Singapore",
            "Slovak Republic",
            "Slovenia",
            "Somalia",
            "South Africa",
            "Spain",
            "Sri Lanka",
            "Sudan",
            "Swaziland",
            "Sweden",
            "Switzerland",
            "Syria",
            "Taiwan",
            "Tanzania",
            "Thailand",
            "Togo",
            "Trinidad and Tobago",
            "Tunisia",
            "Turkey",
            "Uganda",
            "United Kingdom",
            "United States",
            "Uruguay",
            "Venezuela",
            "Vietnam",
            "West Bank and Gaza",
            "Yemen, Rep.",
            "Zambia",
            "Zimbabwe"
           ],
           "name": "",
           "type": "choropleth",
           "z": {
            "bdata": "GQGzADIBOgAkAVEBggCSAA0BwQDzAFoBJwFQAIEBCAG7AEkBOQDPAFkA5AA1AFsBOQAiAe0ANgHlAEIBPwFbAGwBhgF0AcsAVQFiABMBlgBJAXMBPwAeAV0BNAElARMB5QAmAcwAkABfAUQBdAAhAf4AnQDYADwBNQApARgB+QBUAE8AgABvAQsBHQHZALUATAFRATcAkABTAfwASwEfAT4AeAB6AO4AwQD+AHwA/ADgADMAUAGtAAUBgQCOAYoBNQC6AG8AegFWAVkAHgEyAVAAYACHAEcAGQF5AXgAPAB0AI8AswBTAM4A1wDcAIwBCgFvADUBnwAbAaEAcQFuAGcBQQGiAM0APQCAAFoABwFsAesAfAE3AYYBiAA=",
            "dtype": "i2"
           }
          }
         ],
         "name": "2003"
        },
        {
         "data": [
          {
           "coloraxis": "coloraxis",
           "geo": "geo",
           "hovertemplate": "Year=2004<br>country=%{location}<br>Cancer Rate (per 100k)=%{z}<extra></extra>",
           "locationmode": "country names",
           "locations": [
            "Afghanistan",
            "Albania",
            "Algeria",
            "Angola",
            "Argentina",
            "Australia",
            "Austria",
            "Bahrain",
            "Bangladesh",
            "Belgium",
            "Benin",
            "Bolivia",
            "Bosnia and Herzegovina",
            "Botswana",
            "Brazil",
            "Bulgaria",
            "Burkina Faso",
            "Burundi",
            "Cambodia",
            "Cameroon",
            "Canada",
            "Central African Republic",
            "Chad",
            "Chile",
            "China",
            "Colombia",
            "Comoros",
            "Congo, Dem. Rep.",
            "Congo, Rep.",
            "Costa Rica",
            "Cote d'Ivoire",
            "Croatia",
            "Cuba",
            "Czech Republic",
            "Denmark",
            "Djibouti",
            "Dominican Republic",
            "Ecuador",
            "Egypt",
            "El Salvador",
            "Equatorial Guinea",
            "Eritrea",
            "Ethiopia",
            "Finland",
            "France",
            "Gabon",
            "Gambia",
            "Germany",
            "Ghana",
            "Greece",
            "Guatemala",
            "Guinea",
            "Guinea-Bissau",
            "Haiti",
            "Honduras",
            "Hong Kong, China",
            "Hungary",
            "Iceland",
            "India",
            "Indonesia",
            "Iran",
            "Iraq",
            "Ireland",
            "Israel",
            "Italy",
            "Jamaica",
            "Japan",
            "Jordan",
            "Kenya",
            "Korea, Dem. Rep.",
            "Korea, Rep.",
            "Kuwait",
            "Lebanon",
            "Lesotho",
            "Liberia",
            "Libya",
            "Madagascar",
            "Malawi",
            "Malaysia",
            "Mali",
            "Mauritania",
            "Mauritius",
            "Mexico",
            "Mongolia",
            "Montenegro",
            "Morocco",
            "Mozambique",
            "Myanmar",
            "Namibia",
            "Nepal",
            "Netherlands",
            "New Zealand",
            "Nicaragua",
            "Niger",
            "Nigeria",
            "Norway",
            "Oman",
            "Pakistan",
            "Panama",
            "Paraguay",
            "Peru",
            "Philippines",
            "Poland",
            "Portugal",
            "Puerto Rico",
            "Reunion",
            "Romania",
            "Rwanda",
            "Sao Tome and Principe",
            "Saudi Arabia",
            "Senegal",
            "Serbia",
            "Sierra Leone",
            "Singapore",
            "Slovak Republic",
            "Slovenia",
            "Somalia",
            "South Africa",
            "Spain",
            "Sri Lanka",
            "Sudan",
            "Swaziland",
            "Sweden",
            "Switzerland",
            "Syria",
            "Taiwan",
            "Tanzania",
            "Thailand",
            "Togo",
            "Trinidad and Tobago",
            "Tunisia",
            "Turkey",
            "Uganda",
            "United Kingdom",
            "United States",
            "Uruguay",
            "Venezuela",
            "Vietnam",
            "West Bank and Gaza",
            "Yemen, Rep.",
            "Zambia",
            "Zimbabwe"
           ],
           "name": "",
           "type": "choropleth",
           "z": {
            "bdata": "6QAqATQAMQFUACIBowDXAMAA6ACmAFIAeABpAHcA3wC5AIYAhAH2AF4BSAEEAS8BUwBmAFcBhgGcAAcBQQA7ADYATwGUAAsBzgClAHABdQB+ARQBbQEZAeMAgQB/AEABCgF2AWUB+wDfALkAcQBRALwAZAESAYcAXgHTAA4BQAHlAOoAYACCABQBBAHlABsBjgDuAMAA2wDQADYAiQGcAEkAfgH/ADgBQAGOAUUBhAHEAKEApABsAD8BNwAAAWoAtwBkAJgAWwG5AMQA1wDFAPEAOwBTAVwB+QDMALwAcQERAXEBqAC4ALwAPQEzAcUANgFOAWABSgE7AVcB3QA9AGoAmwBsAHkA8QDEABsBvAA/ARIBsgBtAGABdwE=",
            "dtype": "i2"
           }
          }
         ],
         "name": "2004"
        },
        {
         "data": [
          {
           "coloraxis": "coloraxis",
           "geo": "geo",
           "hovertemplate": "Year=2005<br>country=%{location}<br>Cancer Rate (per 100k)=%{z}<extra></extra>",
           "locationmode": "country names",
           "locations": [
            "Afghanistan",
            "Albania",
            "Algeria",
            "Angola",
            "Argentina",
            "Australia",
            "Austria",
            "Bahrain",
            "Bangladesh",
            "Belgium",
            "Benin",
            "Bolivia",
            "Bosnia and Herzegovina",
            "Botswana",
            "Brazil",
            "Bulgaria",
            "Burkina Faso",
            "Burundi",
            "Cambodia",
            "Cameroon",
            "Canada",
            "Central African Republic",
            "Chad",
            "Chile",
            "China",
            "Colombia",
            "Comoros",
            "Congo, Dem. Rep.",
            "Congo, Rep.",
            "Costa Rica",
            "Cote d'Ivoire",
            "Croatia",
            "Cuba",
            "Czech Republic",
            "Denmark",
            "Djibouti",
            "Dominican Republic",
            "Ecuador",
            "Egypt",
            "El Salvador",
            "Equatorial Guinea",
            "Eritrea",
            "Ethiopia",
            "Finland",
            "France",
            "Gabon",
            "Gambia",
            "Germany",
            "Ghana",
            "Greece",
            "Guatemala",
            "Guinea",
            "Guinea-Bissau",
            "Haiti",
            "Honduras",
            "Hong Kong, China",
            "Hungary",
            "Iceland",
            "India",
            "Indonesia",
            "Iran",
            "Iraq",
            "Ireland",
            "Israel",
            "Italy",
            "Jamaica",
            "Japan",
            "Jordan",
            "Kenya",
            "Korea, Dem. Rep.",
            "Korea, Rep.",
            "Kuwait",
            "Lebanon",
            "Lesotho",
            "Liberia",
            "Libya",
            "Madagascar",
            "Malawi",
            "Malaysia",
            "Mali",
            "Mauritania",
            "Mauritius",
            "Mexico",
            "Mongolia",
            "Montenegro",
            "Morocco",
            "Mozambique",
            "Myanmar",
            "Namibia",
            "Nepal",
            "Netherlands",
            "New Zealand",
            "Nicaragua",
            "Niger",
            "Nigeria",
            "Norway",
            "Oman",
            "Pakistan",
            "Panama",
            "Paraguay",
            "Peru",
            "Philippines",
            "Poland",
            "Portugal",
            "Puerto Rico",
            "Reunion",
            "Romania",
            "Rwanda",
            "Sao Tome and Principe",
            "Saudi Arabia",
            "Senegal",
            "Serbia",
            "Sierra Leone",
            "Singapore",
            "Slovak Republic",
            "Slovenia",
            "Somalia",
            "South Africa",
            "Spain",
            "Sri Lanka",
            "Sudan",
            "Swaziland",
            "Sweden",
            "Switzerland",
            "Syria",
            "Taiwan",
            "Tanzania",
            "Thailand",
            "Togo",
            "Trinidad and Tobago",
            "Tunisia",
            "Turkey",
            "Uganda",
            "United Kingdom",
            "United States",
            "Uruguay",
            "Venezuela",
            "Vietnam",
            "West Bank and Gaza",
            "Yemen, Rep.",
            "Zambia",
            "Zimbabwe"
           ],
           "name": "",
           "type": "choropleth",
           "z": {
            "bdata": "cgCMAFEA0gC2AKcAAAHdAIoB+QDXAGkBTwBNAUsBQgGeADgAPwDnACEBTwE2AFEBaQDSADsAegFHATIBNAA6AF8AgQBFAU8BCwH7APIANQAzAV8A0QC1AHwBzQBSAB0B5QBEAQwBSgBrABABhwCBAKkAOgDmABwB+QBMAfUAKQGJADoB+ACIAJwA2wBcAUoBRAG5AMAABQFbAQEBNwFjAWoBvQCKAV0BUQEKASkBrgDLAMUAUAHrAEQAPAELAX8B+AB6AYAAowALAdYAFQFqAMAAbwBdAIMB4QBRAYQBTgFAAW4B0gDqABkBMQE6AXYAxQA4AAsBsABXAboAegCXAAoBfwAyAa8A8wB7AZoAKQFpAE8BiwHTAEMAwAA=",
            "dtype": "i2"
           }
          }
         ],
         "name": "2005"
        },
        {
         "data": [
          {
           "coloraxis": "coloraxis",
           "geo": "geo",
           "hovertemplate": "Year=2006<br>country=%{location}<br>Cancer Rate (per 100k)=%{z}<extra></extra>",
           "locationmode": "country names",
           "locations": [
            "Afghanistan",
            "Albania",
            "Algeria",
            "Angola",
            "Argentina",
            "Australia",
            "Austria",
            "Bahrain",
            "Bangladesh",
            "Belgium",
            "Benin",
            "Bolivia",
            "Bosnia and Herzegovina",
            "Botswana",
            "Brazil",
            "Bulgaria",
            "Burkina Faso",
            "Burundi",
            "Cambodia",
            "Cameroon",
            "Canada",
            "Central African Republic",
            "Chad",
            "Chile",
            "China",
            "Colombia",
            "Comoros",
            "Congo, Dem. Rep.",
            "Congo, Rep.",
            "Costa Rica",
            "Cote d'Ivoire",
            "Croatia",
            "Cuba",
            "Czech Republic",
            "Denmark",
            "Djibouti",
            "Dominican Republic",
            "Ecuador",
            "Egypt",
            "El Salvador",
            "Equatorial Guinea",
            "Eritrea",
            "Ethiopia",
            "Finland",
            "France",
            "Gabon",
            "Gambia",
            "Germany",
            "Ghana",
            "Greece",
            "Guatemala",
            "Guinea",
            "Guinea-Bissau",
            "Haiti",
            "Honduras",
            "Hong Kong, China",
            "Hungary",
            "Iceland",
            "India",
            "Indonesia",
            "Iran",
            "Iraq",
            "Ireland",
            "Israel",
            "Italy",
            "Jamaica",
            "Japan",
            "Jordan",
            "Kenya",
            "Korea, Dem. Rep.",
            "Korea, Rep.",
            "Kuwait",
            "Lebanon",
            "Lesotho",
            "Liberia",
            "Libya",
            "Madagascar",
            "Malawi",
            "Malaysia",
            "Mali",
            "Mauritania",
            "Mauritius",
            "Mexico",
            "Mongolia",
            "Montenegro",
            "Morocco",
            "Mozambique",
            "Myanmar",
            "Namibia",
            "Nepal",
            "Netherlands",
            "New Zealand",
            "Nicaragua",
            "Niger",
            "Nigeria",
            "Norway",
            "Oman",
            "Pakistan",
            "Panama",
            "Paraguay",
            "Peru",
            "Philippines",
            "Poland",
            "Portugal",
            "Puerto Rico",
            "Reunion",
            "Romania",
            "Rwanda",
            "Sao Tome and Principe",
            "Saudi Arabia",
            "Senegal",
            "Serbia",
            "Sierra Leone",
            "Singapore",
            "Slovak Republic",
            "Slovenia",
            "Somalia",
            "South Africa",
            "Spain",
            "Sri Lanka",
            "Sudan",
            "Swaziland",
            "Sweden",
            "Switzerland",
            "Syria",
            "Taiwan",
            "Tanzania",
            "Thailand",
            "Togo",
            "Trinidad and Tobago",
            "Tunisia",
            "Turkey",
            "Uganda",
            "United Kingdom",
            "United States",
            "Uruguay",
            "Venezuela",
            "Vietnam",
            "West Bank and Gaza",
            "Yemen, Rep.",
            "Zambia",
            "Zimbabwe"
           ],
           "name": "",
           "type": "choropleth",
           "z": {
            "bdata": "7AAWAacAHQFvAVcBlABCAYYBjwAVAbkAVgC9ABgBpABcAVsB1QBiAScBlwBfAYsAjwCJACEBjQBcAYwByADTAKEApwD0AKMApQB7AGkBlgBwAGgBVgBkAVgAIQHdALEANQBRAAcBXAAjATIA9wA5AB4BGAEiAVoBeQBbAYoBLAHxADMASAH4AFABSACnALsAWwErAUQAIQGPAGcAHwGtAKoANgCdAMAAMwGxACgBYABvARgBQAD6AAUBEwH0AKMAhQFaAXsBbwCRABYB2gDfANUAhgETAY8BvAAAAaAAXQGUANAAcwHIABIBgQGJAGMBNgCQAN4ARAA8AIEA+gDlAEcBNwFXAWUB7wBvAYwAQwAvAX8ABQGOALkAbQA=",
            "dtype": "i2"
           }
          }
         ],
         "name": "2006"
        },
        {
         "data": [
          {
           "coloraxis": "coloraxis",
           "geo": "geo",
           "hovertemplate": "Year=2007<br>country=%{location}<br>Cancer Rate (per 100k)=%{z}<extra></extra>",
           "locationmode": "country names",
           "locations": [
            "Afghanistan",
            "Albania",
            "Algeria",
            "Angola",
            "Argentina",
            "Australia",
            "Austria",
            "Bahrain",
            "Bangladesh",
            "Belgium",
            "Benin",
            "Bolivia",
            "Bosnia and Herzegovina",
            "Botswana",
            "Brazil",
            "Bulgaria",
            "Burkina Faso",
            "Burundi",
            "Cambodia",
            "Cameroon",
            "Canada",
            "Central African Republic",
            "Chad",
            "Chile",
            "China",
            "Colombia",
            "Comoros",
            "Congo, Dem. Rep.",
            "Congo, Rep.",
            "Costa Rica",
            "Cote d'Ivoire",
            "Croatia",
            "Cuba",
            "Czech Republic",
            "Denmark",
            "Djibouti",
            "Dominican Republic",
            "Ecuador",
            "Egypt",
            "El Salvador",
            "Equatorial Guinea",
            "Eritrea",
            "Ethiopia",
            "Finland",
            "France",
            "Gabon",
            "Gambia",
            "Germany",
            "Ghana",
            "Greece",
            "Guatemala",
            "Guinea",
            "Guinea-Bissau",
            "Haiti",
            "Honduras",
            "Hong Kong, China",
            "Hungary",
            "Iceland",
            "India",
            "Indonesia",
            "Iran",
            "Iraq",
            "Ireland",
            "Israel",
            "Italy",
            "Jamaica",
            "Japan",
            "Jordan",
            "Kenya",
            "Korea, Dem. Rep.",
            "Korea, Rep.",
            "Kuwait",
            "Lebanon",
            "Lesotho",
            "Liberia",
            "Libya",
            "Madagascar",
            "Malawi",
            "Malaysia",
            "Mali",
            "Mauritania",
            "Mauritius",
            "Mexico",
            "Mongolia",
            "Montenegro",
            "Morocco",
            "Mozambique",
            "Myanmar",
            "Namibia",
            "Nepal",
            "Netherlands",
            "New Zealand",
            "Nicaragua",
            "Niger",
            "Nigeria",
            "Norway",
            "Oman",
            "Pakistan",
            "Panama",
            "Paraguay",
            "Peru",
            "Philippines",
            "Poland",
            "Portugal",
            "Puerto Rico",
            "Reunion",
            "Romania",
            "Rwanda",
            "Sao Tome and Principe",
            "Saudi Arabia",
            "Senegal",
            "Serbia",
            "Sierra Leone",
            "Singapore",
            "Slovak Republic",
            "Slovenia",
            "Somalia",
            "South Africa",
            "Spain",
            "Sri Lanka",
            "Sudan",
            "Swaziland",
            "Sweden",
            "Switzerland",
            "Syria",
            "Taiwan",
            "Tanzania",
            "Thailand",
            "Togo",
            "Trinidad and Tobago",
            "Tunisia",
            "Turkey",
            "Uganda",
            "United Kingdom",
            "United States",
            "Uruguay",
            "Venezuela",
            "Vietnam",
            "West Bank and Gaza",
            "Yemen, Rep.",
            "Zambia",
            "Zimbabwe"
           ],
           "name": "",
           "type": "choropleth",
           "z": {
            "bdata": "gQE9ANAARADRAEkA8QBHAd4AvwA8APwAQgAEAcAAOAAuAZkATwGHAMQATQD3AGoAKwGBAT8A4AAOATkAugC+AM0A0gD5AFUBWwAMAdAAggF8AAEBRQFKATwANQA6AG0BqAAXAaAA8QAEAaYAVACLAWkBCAFKAckAiQGNAWEAFQGbABQBSgBPADQAvwBeALgAjwF1Ad8AHgEDATUAWgC7AGQBTwE5ATkAYQG6AP4AeAHIAI0AbAAHARABYgFzAHkA1wAJAZsATwHyAHwAkwDnAE8B4QB+AU0AdACKADgAewEiAXgAMgGOAOoApQCAAf8AWQGSAGoAAwHSAEMBNAFqAYAB3wCCAXgAiwDHAFMA4QDJAB8B9gDdAJYAVAA=",
            "dtype": "i2"
           }
          }
         ],
         "name": "2007"
        },
        {
         "data": [
          {
           "coloraxis": "coloraxis",
           "geo": "geo",
           "hovertemplate": "Year=2008<br>country=%{location}<br>Cancer Rate (per 100k)=%{z}<extra></extra>",
           "locationmode": "country names",
           "locations": [
            "Afghanistan",
            "Albania",
            "Algeria",
            "Angola",
            "Argentina",
            "Australia",
            "Austria",
            "Bahrain",
            "Bangladesh",
            "Belgium",
            "Benin",
            "Bolivia",
            "Bosnia and Herzegovina",
            "Botswana",
            "Brazil",
            "Bulgaria",
            "Burkina Faso",
            "Burundi",
            "Cambodia",
            "Cameroon",
            "Canada",
            "Central African Republic",
            "Chad",
            "Chile",
            "China",
            "Colombia",
            "Comoros",
            "Congo, Dem. Rep.",
            "Congo, Rep.",
            "Costa Rica",
            "Cote d'Ivoire",
            "Croatia",
            "Cuba",
            "Czech Republic",
            "Denmark",
            "Djibouti",
            "Dominican Republic",
            "Ecuador",
            "Egypt",
            "El Salvador",
            "Equatorial Guinea",
            "Eritrea",
            "Ethiopia",
            "Finland",
            "France",
            "Gabon",
            "Gambia",
            "Germany",
            "Ghana",
            "Greece",
            "Guatemala",
            "Guinea",
            "Guinea-Bissau",
            "Haiti",
            "Honduras",
            "Hong Kong, China",
            "Hungary",
            "Iceland",
            "India",
            "Indonesia",
            "Iran",
            "Iraq",
            "Ireland",
            "Israel",
            "Italy",
            "Jamaica",
            "Japan",
            "Jordan",
            "Kenya",
            "Korea, Dem. Rep.",
            "Korea, Rep.",
            "Kuwait",
            "Lebanon",
            "Lesotho",
            "Liberia",
            "Libya",
            "Madagascar",
            "Malawi",
            "Malaysia",
            "Mali",
            "Mauritania",
            "Mauritius",
            "Mexico",
            "Mongolia",
            "Montenegro",
            "Morocco",
            "Mozambique",
            "Myanmar",
            "Namibia",
            "Nepal",
            "Netherlands",
            "New Zealand",
            "Nicaragua",
            "Niger",
            "Nigeria",
            "Norway",
            "Oman",
            "Pakistan",
            "Panama",
            "Paraguay",
            "Peru",
            "Philippines",
            "Poland",
            "Portugal",
            "Puerto Rico",
            "Reunion",
            "Romania",
            "Rwanda",
            "Sao Tome and Principe",
            "Saudi Arabia",
            "Senegal",
            "Serbia",
            "Sierra Leone",
            "Singapore",
            "Slovak Republic",
            "Slovenia",
            "Somalia",
            "South Africa",
            "Spain",
            "Sri Lanka",
            "Sudan",
            "Swaziland",
            "Sweden",
            "Switzerland",
            "Syria",
            "Taiwan",
            "Tanzania",
            "Thailand",
            "Togo",
            "Trinidad and Tobago",
            "Tunisia",
            "Turkey",
            "Uganda",
            "United Kingdom",
            "United States",
            "Uruguay",
            "Venezuela",
            "Vietnam",
            "West Bank and Gaza",
            "Yemen, Rep.",
            "Zambia",
            "Zimbabwe"
           ],
           "name": "",
           "type": "choropleth",
           "z": {
            "bdata": "UwGqAG8AsQCzAAsBIAEvAYEBZgAqAUABlwABAY8BvgBbAXUBigF4AfAAZAFcAXUAHwHZADoAkwArAaQALAEpAeEAzwCKADgBfgDQAPoAPwHsAIcBaAGPAfkA+gCEAUEA9ABzAJ8AdACBAYcBZQDrAD0A8gCWAGYBSADlAFYBdwGBATMAlwDTAB0BaAGQABwBsgA9AJgANAC5APIA2gCAANMADQHiAGYAxQAMAYMBbQGnAGQAWgEbAXYA5gBVAQwBiwBZAF4AuQBIAOEAewGdACEBjACDAYUAlQC6AHwAJgE7AAMBVABNATwAlgBGAEgAoAAlAQEBRwFiAPsAdgADAXkB6gA6AGEA5wDtAEYAtgBRAZEAJgE/AAkBLgE=",
            "dtype": "i2"
           }
          }
         ],
         "name": "2008"
        },
        {
         "data": [
          {
           "coloraxis": "coloraxis",
           "geo": "geo",
           "hovertemplate": "Year=2009<br>country=%{location}<br>Cancer Rate (per 100k)=%{z}<extra></extra>",
           "locationmode": "country names",
           "locations": [
            "Afghanistan",
            "Albania",
            "Algeria",
            "Angola",
            "Argentina",
            "Australia",
            "Austria",
            "Bahrain",
            "Bangladesh",
            "Belgium",
            "Benin",
            "Bolivia",
            "Bosnia and Herzegovina",
            "Botswana",
            "Brazil",
            "Bulgaria",
            "Burkina Faso",
            "Burundi",
            "Cambodia",
            "Cameroon",
            "Canada",
            "Central African Republic",
            "Chad",
            "Chile",
            "China",
            "Colombia",
            "Comoros",
            "Congo, Dem. Rep.",
            "Congo, Rep.",
            "Costa Rica",
            "Cote d'Ivoire",
            "Croatia",
            "Cuba",
            "Czech Republic",
            "Denmark",
            "Djibouti",
            "Dominican Republic",
            "Ecuador",
            "Egypt",
            "El Salvador",
            "Equatorial Guinea",
            "Eritrea",
            "Ethiopia",
            "Finland",
            "France",
            "Gabon",
            "Gambia",
            "Germany",
            "Ghana",
            "Greece",
            "Guatemala",
            "Guinea",
            "Guinea-Bissau",
            "Haiti",
            "Honduras",
            "Hong Kong, China",
            "Hungary",
            "Iceland",
            "India",
            "Indonesia",
            "Iran",
            "Iraq",
            "Ireland",
            "Israel",
            "Italy",
            "Jamaica",
            "Japan",
            "Jordan",
            "Kenya",
            "Korea, Dem. Rep.",
            "Korea, Rep.",
            "Kuwait",
            "Lebanon",
            "Lesotho",
            "Liberia",
            "Libya",
            "Madagascar",
            "Malawi",
            "Malaysia",
            "Mali",
            "Mauritania",
            "Mauritius",
            "Mexico",
            "Mongolia",
            "Montenegro",
            "Morocco",
            "Mozambique",
            "Myanmar",
            "Namibia",
            "Nepal",
            "Netherlands",
            "New Zealand",
            "Nicaragua",
            "Niger",
            "Nigeria",
            "Norway",
            "Oman",
            "Pakistan",
            "Panama",
            "Paraguay",
            "Peru",
            "Philippines",
            "Poland",
            "Portugal",
            "Puerto Rico",
            "Reunion",
            "Romania",
            "Rwanda",
            "Sao Tome and Principe",
            "Saudi Arabia",
            "Senegal",
            "Serbia",
            "Sierra Leone",
            "Singapore",
            "Slovak Republic",
            "Slovenia",
            "Somalia",
            "South Africa",
            "Spain",
            "Sri Lanka",
            "Sudan",
            "Swaziland",
            "Sweden",
            "Switzerland",
            "Syria",
            "Taiwan",
            "Tanzania",
            "Thailand",
            "Togo",
            "Trinidad and Tobago",
            "Tunisia",
            "Turkey",
            "Uganda",
            "United Kingdom",
            "United States",
            "Uruguay",
            "Venezuela",
            "Vietnam",
            "West Bank and Gaza",
            "Yemen, Rep.",
            "Zambia",
            "Zimbabwe"
           ],
           "name": "",
           "type": "choropleth",
           "z": {
            "bdata": "jABEAGUBvwAEAUYBYQGnACoBZQHZABkB7QAiAbkAjwA4AHYBuwBCAeIAfQB3AesAWwGcAPoAUgFSAWIBgACjAAgB9wCNASQB2ADNAHAAFQEAAQABbgBEAUYArQDwAGYAXwDAAFkAcQHBALgA1wCpADEBugDDAOYAyQBoAXUBggApAYABBQFGAIQAGgGJAOEAwwBwAZsAnwA8AMoAIQFrAG4BMwBzAGEBbgFyABcBlgBtADIALwHjAAYBcgGMAa4ARQDOAEgBmQD5AEwAVAG+AF0AQwGEAWsBTQAAASoBigHJAEgBsAA3AREBRQDCAGwBuQAMAe8AwQB9AV8BBQGDAcIAsQA9AOUAAAF9AQoBZgCNAJwAewEaAfEAUwE=",
            "dtype": "i2"
           }
          }
         ],
         "name": "2009"
        },
        {
         "data": [
          {
           "coloraxis": "coloraxis",
           "geo": "geo",
           "hovertemplate": "Year=2010<br>country=%{location}<br>Cancer Rate (per 100k)=%{z}<extra></extra>",
           "locationmode": "country names",
           "locations": [
            "Afghanistan",
            "Albania",
            "Algeria",
            "Angola",
            "Argentina",
            "Australia",
            "Austria",
            "Bahrain",
            "Bangladesh",
            "Belgium",
            "Benin",
            "Bolivia",
            "Bosnia and Herzegovina",
            "Botswana",
            "Brazil",
            "Bulgaria",
            "Burkina Faso",
            "Burundi",
            "Cambodia",
            "Cameroon",
            "Canada",
            "Central African Republic",
            "Chad",
            "Chile",
            "China",
            "Colombia",
            "Comoros",
            "Congo, Dem. Rep.",
            "Congo, Rep.",
            "Costa Rica",
            "Cote d'Ivoire",
            "Croatia",
            "Cuba",
            "Czech Republic",
            "Denmark",
            "Djibouti",
            "Dominican Republic",
            "Ecuador",
            "Egypt",
            "El Salvador",
            "Equatorial Guinea",
            "Eritrea",
            "Ethiopia",
            "Finland",
            "France",
            "Gabon",
            "Gambia",
            "Germany",
            "Ghana",
            "Greece",
            "Guatemala",
            "Guinea",
            "Guinea-Bissau",
            "Haiti",
            "Honduras",
            "Hong Kong, China",
            "Hungary",
            "Iceland",
            "India",
            "Indonesia",
            "Iran",
            "Iraq",
            "Ireland",
            "Israel",
            "Italy",
            "Jamaica",
            "Japan",
            "Jordan",
            "Kenya",
            "Korea, Dem. Rep.",
            "Korea, Rep.",
            "Kuwait",
            "Lebanon",
            "Lesotho",
            "Liberia",
            "Libya",
            "Madagascar",
            "Malawi",
            "Malaysia",
            "Mali",
            "Mauritania",
            "Mauritius",
            "Mexico",
            "Mongolia",
            "Montenegro",
            "Morocco",
            "Mozambique",
            "Myanmar",
            "Namibia",
            "Nepal",
            "Netherlands",
            "New Zealand",
            "Nicaragua",
            "Niger",
            "Nigeria",
            "Norway",
            "Oman",
            "Pakistan",
            "Panama",
            "Paraguay",
            "Peru",
            "Philippines",
            "Poland",
            "Portugal",
            "Puerto Rico",
            "Reunion",
            "Romania",
            "Rwanda",
            "Sao Tome and Principe",
            "Saudi Arabia",
            "Senegal",
            "Serbia",
            "Sierra Leone",
            "Singapore",
            "Slovak Republic",
            "Slovenia",
            "Somalia",
            "South Africa",
            "Spain",
            "Sri Lanka",
            "Sudan",
            "Swaziland",
            "Sweden",
            "Switzerland",
            "Syria",
            "Taiwan",
            "Tanzania",
            "Thailand",
            "Togo",
            "Trinidad and Tobago",
            "Tunisia",
            "Turkey",
            "Uganda",
            "United Kingdom",
            "United States",
            "Uruguay",
            "Venezuela",
            "Vietnam",
            "West Bank and Gaza",
            "Yemen, Rep.",
            "Zambia",
            "Zimbabwe"
           ],
           "name": "",
           "type": "choropleth",
           "z": {
            "bdata": "ewBEAeIAugCPAH0BagHPAGQAkgCOAbcAqABmAZAA1QDWAFsAggEZASgB2AB+AGIBIQEvAXQA9QBOACcBYgFgAB8BmQBgAGMANwF8AFEASAD/AD4AYQH7AK0AmgCCALgAOwE/AT4AIwFFAQsBJgF6AO8AXgBoAQ8BjwG/AH0ApADYAI8AZgE1AMcACQFzADUAbQBlAEQBrABIAC4BswB6APwADgHbAAsB1QBVAaMAgQHNADcAegBXAW4A+gBDAWcBxgB3AbkAmADNAPcArQDwAEwAUQDqAKAAqgCyANwAwADKALAAwgDwADIBbwDJAO0AbwAPATsBJAEsAeEAGgGUAEQBBwHtAHwAMwE5AVMBPAFJATgAVwAlAQABCQE=",
            "dtype": "i2"
           }
          }
         ],
         "name": "2010"
        },
        {
         "data": [
          {
           "coloraxis": "coloraxis",
           "geo": "geo",
           "hovertemplate": "Year=2011<br>country=%{location}<br>Cancer Rate (per 100k)=%{z}<extra></extra>",
           "locationmode": "country names",
           "locations": [
            "Afghanistan",
            "Albania",
            "Algeria",
            "Angola",
            "Argentina",
            "Australia",
            "Austria",
            "Bahrain",
            "Bangladesh",
            "Belgium",
            "Benin",
            "Bolivia",
            "Bosnia and Herzegovina",
            "Botswana",
            "Brazil",
            "Bulgaria",
            "Burkina Faso",
            "Burundi",
            "Cambodia",
            "Cameroon",
            "Canada",
            "Central African Republic",
            "Chad",
            "Chile",
            "China",
            "Colombia",
            "Comoros",
            "Congo, Dem. Rep.",
            "Congo, Rep.",
            "Costa Rica",
            "Cote d'Ivoire",
            "Croatia",
            "Cuba",
            "Czech Republic",
            "Denmark",
            "Djibouti",
            "Dominican Republic",
            "Ecuador",
            "Egypt",
            "El Salvador",
            "Equatorial Guinea",
            "Eritrea",
            "Ethiopia",
            "Finland",
            "France",
            "Gabon",
            "Gambia",
            "Germany",
            "Ghana",
            "Greece",
            "Guatemala",
            "Guinea",
            "Guinea-Bissau",
            "Haiti",
            "Honduras",
            "Hong Kong, China",
            "Hungary",
            "Iceland",
            "India",
            "Indonesia",
            "Iran",
            "Iraq",
            "Ireland",
            "Israel",
            "Italy",
            "Jamaica",
            "Japan",
            "Jordan",
            "Kenya",
            "Korea, Dem. Rep.",
            "Korea, Rep.",
            "Kuwait",
            "Lebanon",
            "Lesotho",
            "Liberia",
            "Libya",
            "Madagascar",
            "Malawi",
            "Malaysia",
            "Mali",
            "Mauritania",
            "Mauritius",
            "Mexico",
            "Mongolia",
            "Montenegro",
            "Morocco",
            "Mozambique",
            "Myanmar",
            "Namibia",
            "Nepal",
            "Netherlands",
            "New Zealand",
            "Nicaragua",
            "Niger",
            "Nigeria",
            "Norway",
            "Oman",
            "Pakistan",
            "Panama",
            "Paraguay",
            "Peru",
            "Philippines",
            "Poland",
            "Portugal",
            "Puerto Rico",
            "Reunion",
            "Romania",
            "Rwanda",
            "Sao Tome and Principe",
            "Saudi Arabia",
            "Senegal",
            "Serbia",
            "Sierra Leone",
            "Singapore",
            "Slovak Republic",
            "Slovenia",
            "Somalia",
            "South Africa",
            "Spain",
            "Sri Lanka",
            "Sudan",
            "Swaziland",
            "Sweden",
            "Switzerland",
            "Syria",
            "Taiwan",
            "Tanzania",
            "Thailand",
            "Togo",
            "Trinidad and Tobago",
            "Tunisia",
            "Turkey",
            "Uganda",
            "United Kingdom",
            "United States",
            "Uruguay",
            "Venezuela",
            "Vietnam",
            "West Bank and Gaza",
            "Yemen, Rep.",
            "Zambia",
            "Zimbabwe"
           ],
           "name": "",
           "type": "choropleth",
           "z": {
            "bdata": "NgBSAV4BawHOAJMAuQCJAHEArAAYAUIBIgEkASIBUgA/AZEASQGzAPwAQwH2ABsBqgDCAGkApQBpAXwBHAHuALMAGQF3ADIBdwCIAH4AZwG2AMQAtgCWADgAogBqAeYAkwBfAF4AqQBuAfEAlgDIAFcA9wBzAGsBGAEIATgBVAGYAOUAkQC1ADoBKAEiAaMACQFTAHMA/ABtAIMAyQBRAFwAyADGACUBJwHDAEYAdgB0AQ8BqwBPAFMAuQAUAcAAawAcAWkBAAHFAAMBBwGwAFABLgHhAGgAUAFtAF8ANgDjAM8AcgBqAYUBegFYAWEA5gA1AdAA0QBAAFoBGQGPAakAAAFRAXIB8wBzAEgBHQFlAPYAbAE5AXYBiwE=",
            "dtype": "i2"
           }
          }
         ],
         "name": "2011"
        },
        {
         "data": [
          {
           "coloraxis": "coloraxis",
           "geo": "geo",
           "hovertemplate": "Year=2012<br>country=%{location}<br>Cancer Rate (per 100k)=%{z}<extra></extra>",
           "locationmode": "country names",
           "locations": [
            "Afghanistan",
            "Albania",
            "Algeria",
            "Angola",
            "Argentina",
            "Australia",
            "Austria",
            "Bahrain",
            "Bangladesh",
            "Belgium",
            "Benin",
            "Bolivia",
            "Bosnia and Herzegovina",
            "Botswana",
            "Brazil",
            "Bulgaria",
            "Burkina Faso",
            "Burundi",
            "Cambodia",
            "Cameroon",
            "Canada",
            "Central African Republic",
            "Chad",
            "Chile",
            "China",
            "Colombia",
            "Comoros",
            "Congo, Dem. Rep.",
            "Congo, Rep.",
            "Costa Rica",
            "Cote d'Ivoire",
            "Croatia",
            "Cuba",
            "Czech Republic",
            "Denmark",
            "Djibouti",
            "Dominican Republic",
            "Ecuador",
            "Egypt",
            "El Salvador",
            "Equatorial Guinea",
            "Eritrea",
            "Ethiopia",
            "Finland",
            "France",
            "Gabon",
            "Gambia",
            "Germany",
            "Ghana",
            "Greece",
            "Guatemala",
            "Guinea",
            "Guinea-Bissau",
            "Haiti",
            "Honduras",
            "Hong Kong, China",
            "Hungary",
            "Iceland",
            "India",
            "Indonesia",
            "Iran",
            "Iraq",
            "Ireland",
            "Israel",
            "Italy",
            "Jamaica",
            "Japan",
            "Jordan",
            "Kenya",
            "Korea, Dem. Rep.",
            "Korea, Rep.",
            "Kuwait",
            "Lebanon",
            "Lesotho",
            "Liberia",
            "Libya",
            "Madagascar",
            "Malawi",
            "Malaysia",
            "Mali",
            "Mauritania",
            "Mauritius",
            "Mexico",
            "Mongolia",
            "Montenegro",
            "Morocco",
            "Mozambique",
            "Myanmar",
            "Namibia",
            "Nepal",
            "Netherlands",
            "New Zealand",
            "Nicaragua",
            "Niger",
            "Nigeria",
            "Norway",
            "Oman",
            "Pakistan",
            "Panama",
            "Paraguay",
            "Peru",
            "Philippines",
            "Poland",
            "Portugal",
            "Puerto Rico",
            "Reunion",
            "Romania",
            "Rwanda",
            "Sao Tome and Principe",
            "Saudi Arabia",
            "Senegal",
            "Serbia",
            "Sierra Leone",
            "Singapore",
            "Slovak Republic",
            "Slovenia",
            "Somalia",
            "South Africa",
            "Spain",
            "Sri Lanka",
            "Sudan",
            "Swaziland",
            "Sweden",
            "Switzerland",
            "Syria",
            "Taiwan",
            "Tanzania",
            "Thailand",
            "Togo",
            "Trinidad and Tobago",
            "Tunisia",
            "Turkey",
            "Uganda",
            "United Kingdom",
            "United States",
            "Uruguay",
            "Venezuela",
            "Vietnam",
            "West Bank and Gaza",
            "Yemen, Rep.",
            "Zambia",
            "Zimbabwe"
           ],
           "name": "",
           "type": "choropleth",
           "z": {
            "bdata": "/QBLAWYBjQGXAFUBOwBGAM8AXwC4AMEAjQHDAA0BTAFjAZEAcAEqARQBQQA5AUEB1AAMASYBWQF1AOUAqwBdAIkB/QDBAIoAdABoAX0AUgAsAVIBfABhAKkA4wCHAZwAtgBVAIMBfQCaAFwAogDLACIBLgEzAKgA9QBqARABHAGyACABLQExAVEAVABoAGkB2ABGAEkA7wCDAW0AtgBoASoB0gDeAHsAaAGxAGMAOQGmAHwAEgFbAVEA7QAcAYEAuACgAFAAHAFLANEAbACcAB8BHQF9AZEAjgG0ALcASQBJADwBPgCEAHoBSgFGAIIBjwDIAJ4A8ADuAHsA6gD8AGABegFqAaoApABvAMMAawGUAKMAZgBqALsA2AA=",
            "dtype": "i2"
           }
          }
         ],
         "name": "2012"
        },
        {
         "data": [
          {
           "coloraxis": "coloraxis",
           "geo": "geo",
           "hovertemplate": "Year=2013<br>country=%{location}<br>Cancer Rate (per 100k)=%{z}<extra></extra>",
           "locationmode": "country names",
           "locations": [
            "Afghanistan",
            "Albania",
            "Algeria",
            "Angola",
            "Argentina",
            "Australia",
            "Austria",
            "Bahrain",
            "Bangladesh",
            "Belgium",
            "Benin",
            "Bolivia",
            "Bosnia and Herzegovina",
            "Botswana",
            "Brazil",
            "Bulgaria",
            "Burkina Faso",
            "Burundi",
            "Cambodia",
            "Cameroon",
            "Canada",
            "Central African Republic",
            "Chad",
            "Chile",
            "China",
            "Colombia",
            "Comoros",
            "Congo, Dem. Rep.",
            "Congo, Rep.",
            "Costa Rica",
            "Cote d'Ivoire",
            "Croatia",
            "Cuba",
            "Czech Republic",
            "Denmark",
            "Djibouti",
            "Dominican Republic",
            "Ecuador",
            "Egypt",
            "El Salvador",
            "Equatorial Guinea",
            "Eritrea",
            "Ethiopia",
            "Finland",
            "France",
            "Gabon",
            "Gambia",
            "Germany",
            "Ghana",
            "Greece",
            "Guatemala",
            "Guinea",
            "Guinea-Bissau",
            "Haiti",
            "Honduras",
            "Hong Kong, China",
            "Hungary",
            "Iceland",
            "India",
            "Indonesia",
            "Iran",
            "Iraq",
            "Ireland",
            "Israel",
            "Italy",
            "Jamaica",
            "Japan",
            "Jordan",
            "Kenya",
            "Korea, Dem. Rep.",
            "Korea, Rep.",
            "Kuwait",
            "Lebanon",
            "Lesotho",
            "Liberia",
            "Libya",
            "Madagascar",
            "Malawi",
            "Malaysia",
            "Mali",
            "Mauritania",
            "Mauritius",
            "Mexico",
            "Mongolia",
            "Montenegro",
            "Morocco",
            "Mozambique",
            "Myanmar",
            "Namibia",
            "Nepal",
            "Netherlands",
            "New Zealand",
            "Nicaragua",
            "Niger",
            "Nigeria",
            "Norway",
            "Oman",
            "Pakistan",
            "Panama",
            "Paraguay",
            "Peru",
            "Philippines",
            "Poland",
            "Portugal",
            "Puerto Rico",
            "Reunion",
            "Romania",
            "Rwanda",
            "Sao Tome and Principe",
            "Saudi Arabia",
            "Senegal",
            "Serbia",
            "Sierra Leone",
            "Singapore",
            "Slovak Republic",
            "Slovenia",
            "Somalia",
            "South Africa",
            "Spain",
            "Sri Lanka",
            "Sudan",
            "Swaziland",
            "Sweden",
            "Switzerland",
            "Syria",
            "Taiwan",
            "Tanzania",
            "Thailand",
            "Togo",
            "Trinidad and Tobago",
            "Tunisia",
            "Turkey",
            "Uganda",
            "United Kingdom",
            "United States",
            "Uruguay",
            "Venezuela",
            "Vietnam",
            "West Bank and Gaza",
            "Yemen, Rep.",
            "Zambia",
            "Zimbabwe"
           ],
           "name": "",
           "type": "choropleth",
           "z": {
            "bdata": "bgCYAIABhAB3AGUBWwGEAI0AnADcAC0BTQCvAGkAVQAEAecAVwG3AIIBVgE7AYYBZQGaABgBWgE/AHcAHwE2AYoBhQAyAVwBdAA+AU0AewCdAGoAWAGQAHMAmABLAUwBfADEAHUASQCgACQBLQE5AXQB8ADbAAUBXwA/ADoBXwD/AFABcwHEAGYAdgGTAO4AcAFZAR8BEQGfAAgBKwGlAO4AdACnADQB0gBiAU4ABAFyANAAPQDBAHcAegEnAYwAZgFGAL8A4wB+AdkAYAHlAEIB3QC4AFMAYQE3AE4BYgC0ADYA+gAiAV8BCQGNAOMAkgAEAWoA3gDeAJ0AiAF4AJcA2QBkAWcBqgCJAGsAAQGGAW4AWQBVAFYBAwE=",
            "dtype": "i2"
           }
          }
         ],
         "name": "2013"
        },
        {
         "data": [
          {
           "coloraxis": "coloraxis",
           "geo": "geo",
           "hovertemplate": "Year=2014<br>country=%{location}<br>Cancer Rate (per 100k)=%{z}<extra></extra>",
           "locationmode": "country names",
           "locations": [
            "Afghanistan",
            "Albania",
            "Algeria",
            "Angola",
            "Argentina",
            "Australia",
            "Austria",
            "Bahrain",
            "Bangladesh",
            "Belgium",
            "Benin",
            "Bolivia",
            "Bosnia and Herzegovina",
            "Botswana",
            "Brazil",
            "Bulgaria",
            "Burkina Faso",
            "Burundi",
            "Cambodia",
            "Cameroon",
            "Canada",
            "Central African Republic",
            "Chad",
            "Chile",
            "China",
            "Colombia",
            "Comoros",
            "Congo, Dem. Rep.",
            "Congo, Rep.",
            "Costa Rica",
            "Cote d'Ivoire",
            "Croatia",
            "Cuba",
            "Czech Republic",
            "Denmark",
            "Djibouti",
            "Dominican Republic",
            "Ecuador",
            "Egypt",
            "El Salvador",
            "Equatorial Guinea",
            "Eritrea",
            "Ethiopia",
            "Finland",
            "France",
            "Gabon",
            "Gambia",
            "Germany",
            "Ghana",
            "Greece",
            "Guatemala",
            "Guinea",
            "Guinea-Bissau",
            "Haiti",
            "Honduras",
            "Hong Kong, China",
            "Hungary",
            "Iceland",
            "India",
            "Indonesia",
            "Iran",
            "Iraq",
            "Ireland",
            "Israel",
            "Italy",
            "Jamaica",
            "Japan",
            "Jordan",
            "Kenya",
            "Korea, Dem. Rep.",
            "Korea, Rep.",
            "Kuwait",
            "Lebanon",
            "Lesotho",
            "Liberia",
            "Libya",
            "Madagascar",
            "Malawi",
            "Malaysia",
            "Mali",
            "Mauritania",
            "Mauritius",
            "Mexico",
            "Mongolia",
            "Montenegro",
            "Morocco",
            "Mozambique",
            "Myanmar",
            "Namibia",
            "Nepal",
            "Netherlands",
            "New Zealand",
            "Nicaragua",
            "Niger",
            "Nigeria",
            "Norway",
            "Oman",
            "Pakistan",
            "Panama",
            "Paraguay",
            "Peru",
            "Philippines",
            "Poland",
            "Portugal",
            "Puerto Rico",
            "Reunion",
            "Romania",
            "Rwanda",
            "Sao Tome and Principe",
            "Saudi Arabia",
            "Senegal",
            "Serbia",
            "Sierra Leone",
            "Singapore",
            "Slovak Republic",
            "Slovenia",
            "Somalia",
            "South Africa",
            "Spain",
            "Sri Lanka",
            "Sudan",
            "Swaziland",
            "Sweden",
            "Switzerland",
            "Syria",
            "Taiwan",
            "Tanzania",
            "Thailand",
            "Togo",
            "Trinidad and Tobago",
            "Tunisia",
            "Turkey",
            "Uganda",
            "United Kingdom",
            "United States",
            "Uruguay",
            "Venezuela",
            "Vietnam",
            "West Bank and Gaza",
            "Yemen, Rep.",
            "Zambia",
            "Zimbabwe"
           ],
           "name": "",
           "type": "choropleth",
           "z": {
            "bdata": "9ABiAEYAOgD6ACsBuACCATwBNQEUAfYAdQCeAIMAYwHtADUAXwF1AUAARAAPAZcARAF5AcsATAF6AIEB+gA1AJQAcAGbAD0BWgH/AF8BcAAfAbsAOwASATwADQE8AMUAwQBFATUAJQGuAFIAlQBiAWsArQCbAHkBhQB2AOMA9wDUAAAB3gCiAJkA1QA2AQoBXQBZAXoBWwBlAUoAcQHoAGoAOQBXAI0AYgG5AHIAJQGEAL4AHgHIABsBPAGBAEIAxAC2ACwBeQEEAc4AjQBkAVMBNABOAc8A7wDlADsAeABRAb0AoAASAZsAOwGEABgBeQFTAbIAhQBpAF4B4wBpAHgBfgE6AYMBlwDrAGUBnQBSAXQBMgCeADUAlgA=",
            "dtype": "i2"
           }
          }
         ],
         "name": "2014"
        },
        {
         "data": [
          {
           "coloraxis": "coloraxis",
           "geo": "geo",
           "hovertemplate": "Year=2015<br>country=%{location}<br>Cancer Rate (per 100k)=%{z}<extra></extra>",
           "locationmode": "country names",
           "locations": [
            "Afghanistan",
            "Albania",
            "Algeria",
            "Angola",
            "Argentina",
            "Australia",
            "Austria",
            "Bahrain",
            "Bangladesh",
            "Belgium",
            "Benin",
            "Bolivia",
            "Bosnia and Herzegovina",
            "Botswana",
            "Brazil",
            "Bulgaria",
            "Burkina Faso",
            "Burundi",
            "Cambodia",
            "Cameroon",
            "Canada",
            "Central African Republic",
            "Chad",
            "Chile",
            "China",
            "Colombia",
            "Comoros",
            "Congo, Dem. Rep.",
            "Congo, Rep.",
            "Costa Rica",
            "Cote d'Ivoire",
            "Croatia",
            "Cuba",
            "Czech Republic",
            "Denmark",
            "Djibouti",
            "Dominican Republic",
            "Ecuador",
            "Egypt",
            "El Salvador",
            "Equatorial Guinea",
            "Eritrea",
            "Ethiopia",
            "Finland",
            "France",
            "Gabon",
            "Gambia",
            "Germany",
            "Ghana",
            "Greece",
            "Guatemala",
            "Guinea",
            "Guinea-Bissau",
            "Haiti",
            "Honduras",
            "Hong Kong, China",
            "Hungary",
            "Iceland",
            "India",
            "Indonesia",
            "Iran",
            "Iraq",
            "Ireland",
            "Israel",
            "Italy",
            "Jamaica",
            "Japan",
            "Jordan",
            "Kenya",
            "Korea, Dem. Rep.",
            "Korea, Rep.",
            "Kuwait",
            "Lebanon",
            "Lesotho",
            "Liberia",
            "Libya",
            "Madagascar",
            "Malawi",
            "Malaysia",
            "Mali",
            "Mauritania",
            "Mauritius",
            "Mexico",
            "Mongolia",
            "Montenegro",
            "Morocco",
            "Mozambique",
            "Myanmar",
            "Namibia",
            "Nepal",
            "Netherlands",
            "New Zealand",
            "Nicaragua",
            "Niger",
            "Nigeria",
            "Norway",
            "Oman",
            "Pakistan",
            "Panama",
            "Paraguay",
            "Peru",
            "Philippines",
            "Poland",
            "Portugal",
            "Puerto Rico",
            "Reunion",
            "Romania",
            "Rwanda",
            "Sao Tome and Principe",
            "Saudi Arabia",
            "Senegal",
            "Serbia",
            "Sierra Leone",
            "Singapore",
            "Slovak Republic",
            "Slovenia",
            "Somalia",
            "South Africa",
            "Spain",
            "Sri Lanka",
            "Sudan",
            "Swaziland",
            "Sweden",
            "Switzerland",
            "Syria",
            "Taiwan",
            "Tanzania",
            "Thailand",
            "Togo",
            "Trinidad and Tobago",
            "Tunisia",
            "Turkey",
            "Uganda",
            "United Kingdom",
            "United States",
            "Uruguay",
            "Venezuela",
            "Vietnam",
            "West Bank and Gaza",
            "Yemen, Rep.",
            "Zambia",
            "Zimbabwe"
           ],
           "name": "",
           "type": "choropleth",
           "z": {
            "bdata": "ewFYAMIAjABwAAoBFgFpAJYAVwEeAW0AhgHnAH8AiwF/AYEBiQBvALkAwQCKAJsAxgDPAHwBtgCOAQ4BRAHiAEEA+gCMAU0BcgGkAEoA2wCwAFsB8wBXAFIBmgBrACkBkwAyALQALwEFAZ4ABAFQAGsATQGrAJEA+ABPAIsBswA9ADoAMQFZAEUB4QA5ATMAagBPAW4BXgB4AFcBYQCDADAB1gCGAWEBeQEzAXgAhgDZAIoAWwAkAU4BPgBiAFYBQQBEAXoAKwFtAMoAUQDkAGgAgAC6ABUBTAFEAT8BNwCNAEEBuQC+AGMBlwAkAWAAMgH3ACoBNwFVAf8A5ABjAKMApQAZAWsA4ABdAXwB4gAxAV0BLAFqAToBhgA=",
            "dtype": "i2"
           }
          }
         ],
         "name": "2015"
        }
       ],
       "layout": {
        "coloraxis": {
         "colorbar": {
          "title": {
           "text": "Cancer Rate (per 100k)"
          }
         },
         "colorscale": [
          [
           0,
           "rgb(255,245,240)"
          ],
          [
           0.125,
           "rgb(254,224,210)"
          ],
          [
           0.25,
           "rgb(252,187,161)"
          ],
          [
           0.375,
           "rgb(252,146,114)"
          ],
          [
           0.5,
           "rgb(251,106,74)"
          ],
          [
           0.625,
           "rgb(239,59,44)"
          ],
          [
           0.75,
           "rgb(203,24,29)"
          ],
          [
           0.875,
           "rgb(165,15,21)"
          ],
          [
           1,
           "rgb(103,0,13)"
          ]
         ]
        },
        "geo": {
         "center": {},
         "domain": {
          "x": [
           0,
           1
          ],
          "y": [
           0,
           1
          ]
         }
        },
        "legend": {
         "tracegroupgap": 0
        },
        "sliders": [
         {
          "active": 0,
          "currentvalue": {
           "prefix": "Year="
          },
          "len": 0.9,
          "pad": {
           "b": 10,
           "t": 60
          },
          "steps": [
           {
            "args": [
             [
              "2000"
             ],
             {
              "frame": {
               "duration": 0,
               "redraw": true
              },
              "fromcurrent": true,
              "mode": "immediate",
              "transition": {
               "duration": 0,
               "easing": "linear"
              }
             }
            ],
            "label": "2000",
            "method": "animate"
           },
           {
            "args": [
             [
              "2001"
             ],
             {
              "frame": {
               "duration": 0,
               "redraw": true
              },
              "fromcurrent": true,
              "mode": "immediate",
              "transition": {
               "duration": 0,
               "easing": "linear"
              }
             }
            ],
            "label": "2001",
            "method": "animate"
           },
           {
            "args": [
             [
              "2002"
             ],
             {
              "frame": {
               "duration": 0,
               "redraw": true
              },
              "fromcurrent": true,
              "mode": "immediate",
              "transition": {
               "duration": 0,
               "easing": "linear"
              }
             }
            ],
            "label": "2002",
            "method": "animate"
           },
           {
            "args": [
             [
              "2003"
             ],
             {
              "frame": {
               "duration": 0,
               "redraw": true
              },
              "fromcurrent": true,
              "mode": "immediate",
              "transition": {
               "duration": 0,
               "easing": "linear"
              }
             }
            ],
            "label": "2003",
            "method": "animate"
           },
           {
            "args": [
             [
              "2004"
             ],
             {
              "frame": {
               "duration": 0,
               "redraw": true
              },
              "fromcurrent": true,
              "mode": "immediate",
              "transition": {
               "duration": 0,
               "easing": "linear"
              }
             }
            ],
            "label": "2004",
            "method": "animate"
           },
           {
            "args": [
             [
              "2005"
             ],
             {
              "frame": {
               "duration": 0,
               "redraw": true
              },
              "fromcurrent": true,
              "mode": "immediate",
              "transition": {
               "duration": 0,
               "easing": "linear"
              }
             }
            ],
            "label": "2005",
            "method": "animate"
           },
           {
            "args": [
             [
              "2006"
             ],
             {
              "frame": {
               "duration": 0,
               "redraw": true
              },
              "fromcurrent": true,
              "mode": "immediate",
              "transition": {
               "duration": 0,
               "easing": "linear"
              }
             }
            ],
            "label": "2006",
            "method": "animate"
           },
           {
            "args": [
             [
              "2007"
             ],
             {
              "frame": {
               "duration": 0,
               "redraw": true
              },
              "fromcurrent": true,
              "mode": "immediate",
              "transition": {
               "duration": 0,
               "easing": "linear"
              }
             }
            ],
            "label": "2007",
            "method": "animate"
           },
           {
            "args": [
             [
              "2008"
             ],
             {
              "frame": {
               "duration": 0,
               "redraw": true
              },
              "fromcurrent": true,
              "mode": "immediate",
              "transition": {
               "duration": 0,
               "easing": "linear"
              }
             }
            ],
            "label": "2008",
            "method": "animate"
           },
           {
            "args": [
             [
              "2009"
             ],
             {
              "frame": {
               "duration": 0,
               "redraw": true
              },
              "fromcurrent": true,
              "mode": "immediate",
              "transition": {
               "duration": 0,
               "easing": "linear"
              }
             }
            ],
            "label": "2009",
            "method": "animate"
           },
           {
            "args": [
             [
              "2010"
             ],
             {
              "frame": {
               "duration": 0,
               "redraw": true
              },
              "fromcurrent": true,
              "mode": "immediate",
              "transition": {
               "duration": 0,
               "easing": "linear"
              }
             }
            ],
            "label": "2010",
            "method": "animate"
           },
           {
            "args": [
             [
              "2011"
             ],
             {
              "frame": {
               "duration": 0,
               "redraw": true
              },
              "fromcurrent": true,
              "mode": "immediate",
              "transition": {
               "duration": 0,
               "easing": "linear"
              }
             }
            ],
            "label": "2011",
            "method": "animate"
           },
           {
            "args": [
             [
              "2012"
             ],
             {
              "frame": {
               "duration": 0,
               "redraw": true
              },
              "fromcurrent": true,
              "mode": "immediate",
              "transition": {
               "duration": 0,
               "easing": "linear"
              }
             }
            ],
            "label": "2012",
            "method": "animate"
           },
           {
            "args": [
             [
              "2013"
             ],
             {
              "frame": {
               "duration": 0,
               "redraw": true
              },
              "fromcurrent": true,
              "mode": "immediate",
              "transition": {
               "duration": 0,
               "easing": "linear"
              }
             }
            ],
            "label": "2013",
            "method": "animate"
           },
           {
            "args": [
             [
              "2014"
             ],
             {
              "frame": {
               "duration": 0,
               "redraw": true
              },
              "fromcurrent": true,
              "mode": "immediate",
              "transition": {
               "duration": 0,
               "easing": "linear"
              }
             }
            ],
            "label": "2014",
            "method": "animate"
           },
           {
            "args": [
             [
              "2015"
             ],
             {
              "frame": {
               "duration": 0,
               "redraw": true
              },
              "fromcurrent": true,
              "mode": "immediate",
              "transition": {
               "duration": 0,
               "easing": "linear"
              }
             }
            ],
            "label": "2015",
            "method": "animate"
           }
          ],
          "x": 0.1,
          "xanchor": "left",
          "y": 0,
          "yanchor": "top"
         }
        ],
        "template": {
         "data": {
          "bar": [
           {
            "error_x": {
             "color": "#2a3f5f"
            },
            "error_y": {
             "color": "#2a3f5f"
            },
            "marker": {
             "line": {
              "color": "#E5ECF6",
              "width": 0.5
             },
             "pattern": {
              "fillmode": "overlay",
              "size": 10,
              "solidity": 0.2
             }
            },
            "type": "bar"
           }
          ],
          "barpolar": [
           {
            "marker": {
             "line": {
              "color": "#E5ECF6",
              "width": 0.5
             },
             "pattern": {
              "fillmode": "overlay",
              "size": 10,
              "solidity": 0.2
             }
            },
            "type": "barpolar"
           }
          ],
          "carpet": [
           {
            "aaxis": {
             "endlinecolor": "#2a3f5f",
             "gridcolor": "white",
             "linecolor": "white",
             "minorgridcolor": "white",
             "startlinecolor": "#2a3f5f"
            },
            "baxis": {
             "endlinecolor": "#2a3f5f",
             "gridcolor": "white",
             "linecolor": "white",
             "minorgridcolor": "white",
             "startlinecolor": "#2a3f5f"
            },
            "type": "carpet"
           }
          ],
          "choropleth": [
           {
            "colorbar": {
             "outlinewidth": 0,
             "ticks": ""
            },
            "type": "choropleth"
           }
          ],
          "contour": [
           {
            "colorbar": {
             "outlinewidth": 0,
             "ticks": ""
            },
            "colorscale": [
             [
              0,
              "#0d0887"
             ],
             [
              0.1111111111111111,
              "#46039f"
             ],
             [
              0.2222222222222222,
              "#7201a8"
             ],
             [
              0.3333333333333333,
              "#9c179e"
             ],
             [
              0.4444444444444444,
              "#bd3786"
             ],
             [
              0.5555555555555556,
              "#d8576b"
             ],
             [
              0.6666666666666666,
              "#ed7953"
             ],
             [
              0.7777777777777778,
              "#fb9f3a"
             ],
             [
              0.8888888888888888,
              "#fdca26"
             ],
             [
              1,
              "#f0f921"
             ]
            ],
            "type": "contour"
           }
          ],
          "contourcarpet": [
           {
            "colorbar": {
             "outlinewidth": 0,
             "ticks": ""
            },
            "type": "contourcarpet"
           }
          ],
          "heatmap": [
           {
            "colorbar": {
             "outlinewidth": 0,
             "ticks": ""
            },
            "colorscale": [
             [
              0,
              "#0d0887"
             ],
             [
              0.1111111111111111,
              "#46039f"
             ],
             [
              0.2222222222222222,
              "#7201a8"
             ],
             [
              0.3333333333333333,
              "#9c179e"
             ],
             [
              0.4444444444444444,
              "#bd3786"
             ],
             [
              0.5555555555555556,
              "#d8576b"
             ],
             [
              0.6666666666666666,
              "#ed7953"
             ],
             [
              0.7777777777777778,
              "#fb9f3a"
             ],
             [
              0.8888888888888888,
              "#fdca26"
             ],
             [
              1,
              "#f0f921"
             ]
            ],
            "type": "heatmap"
           }
          ],
          "histogram": [
           {
            "marker": {
             "pattern": {
              "fillmode": "overlay",
              "size": 10,
              "solidity": 0.2
             }
            },
            "type": "histogram"
           }
          ],
          "histogram2d": [
           {
            "colorbar": {
             "outlinewidth": 0,
             "ticks": ""
            },
            "colorscale": [
             [
              0,
              "#0d0887"
             ],
             [
              0.1111111111111111,
              "#46039f"
             ],
             [
              0.2222222222222222,
              "#7201a8"
             ],
             [
              0.3333333333333333,
              "#9c179e"
             ],
             [
              0.4444444444444444,
              "#bd3786"
             ],
             [
              0.5555555555555556,
              "#d8576b"
             ],
             [
              0.6666666666666666,
              "#ed7953"
             ],
             [
              0.7777777777777778,
              "#fb9f3a"
             ],
             [
              0.8888888888888888,
              "#fdca26"
             ],
             [
              1,
              "#f0f921"
             ]
            ],
            "type": "histogram2d"
           }
          ],
          "histogram2dcontour": [
           {
            "colorbar": {
             "outlinewidth": 0,
             "ticks": ""
            },
            "colorscale": [
             [
              0,
              "#0d0887"
             ],
             [
              0.1111111111111111,
              "#46039f"
             ],
             [
              0.2222222222222222,
              "#7201a8"
             ],
             [
              0.3333333333333333,
              "#9c179e"
             ],
             [
              0.4444444444444444,
              "#bd3786"
             ],
             [
              0.5555555555555556,
              "#d8576b"
             ],
             [
              0.6666666666666666,
              "#ed7953"
             ],
             [
              0.7777777777777778,
              "#fb9f3a"
             ],
             [
              0.8888888888888888,
              "#fdca26"
             ],
             [
              1,
              "#f0f921"
             ]
            ],
            "type": "histogram2dcontour"
           }
          ],
          "mesh3d": [
           {
            "colorbar": {
             "outlinewidth": 0,
             "ticks": ""
            },
            "type": "mesh3d"
           }
          ],
          "parcoords": [
           {
            "line": {
             "colorbar": {
              "outlinewidth": 0,
              "ticks": ""
             }
            },
            "type": "parcoords"
           }
          ],
          "pie": [
           {
            "automargin": true,
            "type": "pie"
           }
          ],
          "scatter": [
           {
            "fillpattern": {
             "fillmode": "overlay",
             "size": 10,
             "solidity": 0.2
            },
            "type": "scatter"
           }
          ],
          "scatter3d": [
           {
            "line": {
             "colorbar": {
              "outlinewidth": 0,
              "ticks": ""
             }
            },
            "marker": {
             "colorbar": {
              "outlinewidth": 0,
              "ticks": ""
             }
            },
            "type": "scatter3d"
           }
          ],
          "scattercarpet": [
           {
            "marker": {
             "colorbar": {
              "outlinewidth": 0,
              "ticks": ""
             }
            },
            "type": "scattercarpet"
           }
          ],
          "scattergeo": [
           {
            "marker": {
             "colorbar": {
              "outlinewidth": 0,
              "ticks": ""
             }
            },
            "type": "scattergeo"
           }
          ],
          "scattergl": [
           {
            "marker": {
             "colorbar": {
              "outlinewidth": 0,
              "ticks": ""
             }
            },
            "type": "scattergl"
           }
          ],
          "scattermap": [
           {
            "marker": {
             "colorbar": {
              "outlinewidth": 0,
              "ticks": ""
             }
            },
            "type": "scattermap"
           }
          ],
          "scattermapbox": [
           {
            "marker": {
             "colorbar": {
              "outlinewidth": 0,
              "ticks": ""
             }
            },
            "type": "scattermapbox"
           }
          ],
          "scatterpolar": [
           {
            "marker": {
             "colorbar": {
              "outlinewidth": 0,
              "ticks": ""
             }
            },
            "type": "scatterpolar"
           }
          ],
          "scatterpolargl": [
           {
            "marker": {
             "colorbar": {
              "outlinewidth": 0,
              "ticks": ""
             }
            },
            "type": "scatterpolargl"
           }
          ],
          "scatterternary": [
           {
            "marker": {
             "colorbar": {
              "outlinewidth": 0,
              "ticks": ""
             }
            },
            "type": "scatterternary"
           }
          ],
          "surface": [
           {
            "colorbar": {
             "outlinewidth": 0,
             "ticks": ""
            },
            "colorscale": [
             [
              0,
              "#0d0887"
             ],
             [
              0.1111111111111111,
              "#46039f"
             ],
             [
              0.2222222222222222,
              "#7201a8"
             ],
             [
              0.3333333333333333,
              "#9c179e"
             ],
             [
              0.4444444444444444,
              "#bd3786"
             ],
             [
              0.5555555555555556,
              "#d8576b"
             ],
             [
              0.6666666666666666,
              "#ed7953"
             ],
             [
              0.7777777777777778,
              "#fb9f3a"
             ],
             [
              0.8888888888888888,
              "#fdca26"
             ],
             [
              1,
              "#f0f921"
             ]
            ],
            "type": "surface"
           }
          ],
          "table": [
           {
            "cells": {
             "fill": {
              "color": "#EBF0F8"
             },
             "line": {
              "color": "white"
             }
            },
            "header": {
             "fill": {
              "color": "#C8D4E3"
             },
             "line": {
              "color": "white"
             }
            },
            "type": "table"
           }
          ]
         },
         "layout": {
          "annotationdefaults": {
           "arrowcolor": "#2a3f5f",
           "arrowhead": 0,
           "arrowwidth": 1
          },
          "autotypenumbers": "strict",
          "coloraxis": {
           "colorbar": {
            "outlinewidth": 0,
            "ticks": ""
           }
          },
          "colorscale": {
           "diverging": [
            [
             0,
             "#8e0152"
            ],
            [
             0.1,
             "#c51b7d"
            ],
            [
             0.2,
             "#de77ae"
            ],
            [
             0.3,
             "#f1b6da"
            ],
            [
             0.4,
             "#fde0ef"
            ],
            [
             0.5,
             "#f7f7f7"
            ],
            [
             0.6,
             "#e6f5d0"
            ],
            [
             0.7,
             "#b8e186"
            ],
            [
             0.8,
             "#7fbc41"
            ],
            [
             0.9,
             "#4d9221"
            ],
            [
             1,
             "#276419"
            ]
           ],
           "sequential": [
            [
             0,
             "#0d0887"
            ],
            [
             0.1111111111111111,
             "#46039f"
            ],
            [
             0.2222222222222222,
             "#7201a8"
            ],
            [
             0.3333333333333333,
             "#9c179e"
            ],
            [
             0.4444444444444444,
             "#bd3786"
            ],
            [
             0.5555555555555556,
             "#d8576b"
            ],
            [
             0.6666666666666666,
             "#ed7953"
            ],
            [
             0.7777777777777778,
             "#fb9f3a"
            ],
            [
             0.8888888888888888,
             "#fdca26"
            ],
            [
             1,
             "#f0f921"
            ]
           ],
           "sequentialminus": [
            [
             0,
             "#0d0887"
            ],
            [
             0.1111111111111111,
             "#46039f"
            ],
            [
             0.2222222222222222,
             "#7201a8"
            ],
            [
             0.3333333333333333,
             "#9c179e"
            ],
            [
             0.4444444444444444,
             "#bd3786"
            ],
            [
             0.5555555555555556,
             "#d8576b"
            ],
            [
             0.6666666666666666,
             "#ed7953"
            ],
            [
             0.7777777777777778,
             "#fb9f3a"
            ],
            [
             0.8888888888888888,
             "#fdca26"
            ],
            [
             1,
             "#f0f921"
            ]
           ]
          },
          "colorway": [
           "#636efa",
           "#EF553B",
           "#00cc96",
           "#ab63fa",
           "#FFA15A",
           "#19d3f3",
           "#FF6692",
           "#B6E880",
           "#FF97FF",
           "#FECB52"
          ],
          "font": {
           "color": "#2a3f5f"
          },
          "geo": {
           "bgcolor": "white",
           "lakecolor": "white",
           "landcolor": "#E5ECF6",
           "showlakes": true,
           "showland": true,
           "subunitcolor": "white"
          },
          "hoverlabel": {
           "align": "left"
          },
          "hovermode": "closest",
          "mapbox": {
           "style": "light"
          },
          "paper_bgcolor": "white",
          "plot_bgcolor": "#E5ECF6",
          "polar": {
           "angularaxis": {
            "gridcolor": "white",
            "linecolor": "white",
            "ticks": ""
           },
           "bgcolor": "#E5ECF6",
           "radialaxis": {
            "gridcolor": "white",
            "linecolor": "white",
            "ticks": ""
           }
          },
          "scene": {
           "xaxis": {
            "backgroundcolor": "#E5ECF6",
            "gridcolor": "white",
            "gridwidth": 2,
            "linecolor": "white",
            "showbackground": true,
            "ticks": "",
            "zerolinecolor": "white"
           },
           "yaxis": {
            "backgroundcolor": "#E5ECF6",
            "gridcolor": "white",
            "gridwidth": 2,
            "linecolor": "white",
            "showbackground": true,
            "ticks": "",
            "zerolinecolor": "white"
           },
           "zaxis": {
            "backgroundcolor": "#E5ECF6",
            "gridcolor": "white",
            "gridwidth": 2,
            "linecolor": "white",
            "showbackground": true,
            "ticks": "",
            "zerolinecolor": "white"
           }
          },
          "shapedefaults": {
           "line": {
            "color": "#2a3f5f"
           }
          },
          "ternary": {
           "aaxis": {
            "gridcolor": "white",
            "linecolor": "white",
            "ticks": ""
           },
           "baxis": {
            "gridcolor": "white",
            "linecolor": "white",
            "ticks": ""
           },
           "bgcolor": "#E5ECF6",
           "caxis": {
            "gridcolor": "white",
            "linecolor": "white",
            "ticks": ""
           }
          },
          "title": {
           "x": 0.05
          },
          "xaxis": {
           "automargin": true,
           "gridcolor": "white",
           "linecolor": "white",
           "ticks": "",
           "title": {
            "standoff": 15
           },
           "zerolinecolor": "white",
           "zerolinewidth": 2
          },
          "yaxis": {
           "automargin": true,
           "gridcolor": "white",
           "linecolor": "white",
           "ticks": "",
           "title": {
            "standoff": 15
           },
           "zerolinecolor": "white",
           "zerolinewidth": 2
          }
         }
        },
        "title": {
         "text": "Simulated Cancer Rates Worldwide (2000-2015)"
        },
        "updatemenus": [
         {
          "buttons": [
           {
            "args": [
             null,
             {
              "frame": {
               "duration": 500,
               "redraw": true
              },
              "fromcurrent": true,
              "mode": "immediate",
              "transition": {
               "duration": 500,
               "easing": "linear"
              }
             }
            ],
            "label": "&#9654;",
            "method": "animate"
           },
           {
            "args": [
             [
              null
             ],
             {
              "frame": {
               "duration": 0,
               "redraw": true
              },
              "fromcurrent": true,
              "mode": "immediate",
              "transition": {
               "duration": 0,
               "easing": "linear"
              }
             }
            ],
            "label": "&#9724;",
            "method": "animate"
           }
          ],
          "direction": "left",
          "pad": {
           "r": 10,
           "t": 70
          },
          "showactive": false,
          "type": "buttons",
          "x": 0.1,
          "xanchor": "right",
          "y": 0,
          "yanchor": "top"
         }
        ]
       }
      }
     },
     "metadata": {},
     "output_type": "display_data"
    }
   ],
   "source": [
    "import plotly.express as px\n",
    "import pandas as pd\n",
    "import numpy as np\n",
    "\n",
    "# Retrieve unique country names from the Gapminder dataset\n",
    "gapminder = px.data.gapminder()\n",
    "countries = gapminder[\"country\"].unique()\n",
    "\n",
    "# Create a DataFrame covering the years 2000 to 2015 with simulated cancer rates\n",
    "years = range(2000, 2016)\n",
    "data = []\n",
    "for country in countries:\n",
    "    for year in years:\n",
    "        rate = np.random.randint(50, 400)\n",
    "        data.append({\"country\": country, \"year\": year, \"cancer_rate\": rate})\n",
    "\n",
    "df_all = pd.DataFrame(data)\n",
    "\n",
    "df_all[\"country\"] = df_all[\"country\"].replace({\"Russia\": \"Russian Federation\"})\n",
    "\n",
    "fig = px.choropleth(\n",
    "    df_all,\n",
    "    locations=\"country\",\n",
    "    locationmode=\"country names\",\n",
    "    color=\"cancer_rate\",\n",
    "    color_continuous_scale=\"Reds\",\n",
    "    title=\"Simulated Cancer Rates Worldwide (2000-2015)\",\n",
    "    labels={\"cancer_rate\": \"Cancer Rate (per 100k)\", \"year\": \"Year\"},\n",
    "    animation_frame=\"year\"\n",
    ")\n",
    "\n",
    "fig.show()"
   ]
  },
  {
   "cell_type": "markdown",
   "id": "7a54527e",
   "metadata": {},
   "source": [
    "### Geographic distribution of cancer cases."
   ]
  },
  {
   "cell_type": "markdown",
   "id": "12aa7a80",
   "metadata": {},
   "source": [
    "## **5. Cancer Reduction in Developing vs Developed Countries**"
   ]
  },
  {
   "cell_type": "code",
   "execution_count": 19,
   "id": "1d6f03bb",
   "metadata": {},
   "outputs": [
    {
     "ename": "ModuleNotFoundError",
     "evalue": "No module named 'statsmodels'",
     "output_type": "error",
     "traceback": [
      "\u001b[1;31m---------------------------------------------------------------------------\u001b[0m",
      "\u001b[1;31mModuleNotFoundError\u001b[0m                       Traceback (most recent call last)",
      "Cell \u001b[1;32mIn[19], line 1\u001b[0m\n\u001b[1;32m----> 1\u001b[0m fig3 \u001b[38;5;241m=\u001b[39m \u001b[43mpx\u001b[49m\u001b[38;5;241;43m.\u001b[39;49m\u001b[43mscatter\u001b[49m\u001b[43m(\u001b[49m\u001b[43mdf_cancer_reg\u001b[49m\u001b[43m,\u001b[49m\u001b[43m \u001b[49m\u001b[43mx\u001b[49m\u001b[38;5;241;43m=\u001b[39;49m\u001b[38;5;124;43m\"\u001b[39;49m\u001b[38;5;124;43mpctpubliccoverage\u001b[39;49m\u001b[38;5;124;43m\"\u001b[39;49m\u001b[43m,\u001b[49m\u001b[43m \u001b[49m\u001b[43my\u001b[49m\u001b[38;5;241;43m=\u001b[39;49m\u001b[38;5;124;43m\"\u001b[39;49m\u001b[38;5;124;43mtarget_deathrate\u001b[39;49m\u001b[38;5;124;43m\"\u001b[39;49m\u001b[43m,\u001b[49m\u001b[43m \u001b[49m\n\u001b[0;32m      2\u001b[0m \u001b[43m                  \u001b[49m\u001b[43mtitle\u001b[49m\u001b[38;5;241;43m=\u001b[39;49m\u001b[38;5;124;43m\"\u001b[39;49m\u001b[38;5;124;43mPublic Health Coverage vs. Cancer Death Rate\u001b[39;49m\u001b[38;5;124;43m\"\u001b[39;49m\u001b[43m,\u001b[49m\n\u001b[0;32m      3\u001b[0m \u001b[43m                  \u001b[49m\u001b[43mlabels\u001b[49m\u001b[38;5;241;43m=\u001b[39;49m\u001b[43m{\u001b[49m\u001b[38;5;124;43m\"\u001b[39;49m\u001b[38;5;124;43mpctpubliccoverage\u001b[39;49m\u001b[38;5;124;43m\"\u001b[39;49m\u001b[43m:\u001b[49m\u001b[43m \u001b[49m\u001b[38;5;124;43m\"\u001b[39;49m\u001b[38;5;124;43mPrivate Health Coverage (\u001b[39;49m\u001b[38;5;124;43m%\u001b[39;49m\u001b[38;5;124;43m)\u001b[39;49m\u001b[38;5;124;43m\"\u001b[39;49m\u001b[43m,\u001b[49m\u001b[43m \u001b[49m\u001b[38;5;124;43m\"\u001b[39;49m\u001b[38;5;124;43mtarget_deathrate\u001b[39;49m\u001b[38;5;124;43m\"\u001b[39;49m\u001b[43m:\u001b[49m\u001b[43m \u001b[49m\u001b[38;5;124;43m\"\u001b[39;49m\u001b[38;5;124;43mCancer Death Rate\u001b[39;49m\u001b[38;5;124;43m\"\u001b[39;49m\u001b[43m}\u001b[49m\u001b[43m,\u001b[49m\n\u001b[0;32m      4\u001b[0m \u001b[43m                  \u001b[49m\u001b[43mcolor\u001b[49m\u001b[38;5;241;43m=\u001b[39;49m\u001b[38;5;124;43m\"\u001b[39;49m\u001b[38;5;124;43mpctprivatecoverage\u001b[39;49m\u001b[38;5;124;43m\"\u001b[39;49m\u001b[43m,\u001b[49m\u001b[43m \u001b[49m\u001b[43mtrendline\u001b[49m\u001b[38;5;241;43m=\u001b[39;49m\u001b[38;5;124;43m'\u001b[39;49m\u001b[38;5;124;43mols\u001b[39;49m\u001b[38;5;124;43m'\u001b[39;49m\u001b[43m)\u001b[49m\n\u001b[0;32m      5\u001b[0m fig3\u001b[38;5;241m.\u001b[39mshow()\n",
      "File \u001b[1;32mc:\\Users\\isard\\AppData\\Local\\Programs\\Python\\Python312\\Lib\\site-packages\\plotly\\express\\_chart_types.py:69\u001b[0m, in \u001b[0;36mscatter\u001b[1;34m(data_frame, x, y, color, symbol, size, hover_name, hover_data, custom_data, text, facet_row, facet_col, facet_col_wrap, facet_row_spacing, facet_col_spacing, error_x, error_x_minus, error_y, error_y_minus, animation_frame, animation_group, category_orders, labels, orientation, color_discrete_sequence, color_discrete_map, color_continuous_scale, range_color, color_continuous_midpoint, symbol_sequence, symbol_map, opacity, size_max, marginal_x, marginal_y, trendline, trendline_options, trendline_color_override, trendline_scope, log_x, log_y, range_x, range_y, render_mode, title, subtitle, template, width, height)\u001b[0m\n\u001b[0;32m     14\u001b[0m \u001b[38;5;28;01mdef\u001b[39;00m \u001b[38;5;21mscatter\u001b[39m(\n\u001b[0;32m     15\u001b[0m     data_frame\u001b[38;5;241m=\u001b[39m\u001b[38;5;28;01mNone\u001b[39;00m,\n\u001b[0;32m     16\u001b[0m     x\u001b[38;5;241m=\u001b[39m\u001b[38;5;28;01mNone\u001b[39;00m,\n\u001b[1;32m   (...)\u001b[0m\n\u001b[0;32m     63\u001b[0m     height\u001b[38;5;241m=\u001b[39m\u001b[38;5;28;01mNone\u001b[39;00m,\n\u001b[0;32m     64\u001b[0m ) \u001b[38;5;241m-\u001b[39m\u001b[38;5;241m>\u001b[39m go\u001b[38;5;241m.\u001b[39mFigure:\n\u001b[0;32m     65\u001b[0m \u001b[38;5;250m    \u001b[39m\u001b[38;5;124;03m\"\"\"\u001b[39;00m\n\u001b[0;32m     66\u001b[0m \u001b[38;5;124;03m    In a scatter plot, each row of `data_frame` is represented by a symbol\u001b[39;00m\n\u001b[0;32m     67\u001b[0m \u001b[38;5;124;03m    mark in 2D space.\u001b[39;00m\n\u001b[0;32m     68\u001b[0m \u001b[38;5;124;03m    \"\"\"\u001b[39;00m\n\u001b[1;32m---> 69\u001b[0m     \u001b[38;5;28;01mreturn\u001b[39;00m \u001b[43mmake_figure\u001b[49m\u001b[43m(\u001b[49m\u001b[43margs\u001b[49m\u001b[38;5;241;43m=\u001b[39;49m\u001b[38;5;28;43mlocals\u001b[39;49m\u001b[43m(\u001b[49m\u001b[43m)\u001b[49m\u001b[43m,\u001b[49m\u001b[43m \u001b[49m\u001b[43mconstructor\u001b[49m\u001b[38;5;241;43m=\u001b[39;49m\u001b[43mgo\u001b[49m\u001b[38;5;241;43m.\u001b[39;49m\u001b[43mScatter\u001b[49m\u001b[43m)\u001b[49m\n",
      "File \u001b[1;32mc:\\Users\\isard\\AppData\\Local\\Programs\\Python\\Python312\\Lib\\site-packages\\plotly\\express\\_core.py:2668\u001b[0m, in \u001b[0;36mmake_figure\u001b[1;34m(args, constructor, trace_patch, layout_patch)\u001b[0m\n\u001b[0;32m   2665\u001b[0m     \u001b[38;5;28;01melif\u001b[39;00m args[\u001b[38;5;124m\"\u001b[39m\u001b[38;5;124mecdfnorm\u001b[39m\u001b[38;5;124m\"\u001b[39m] \u001b[38;5;241m==\u001b[39m \u001b[38;5;124m\"\u001b[39m\u001b[38;5;124mpercent\u001b[39m\u001b[38;5;124m\"\u001b[39m:\n\u001b[0;32m   2666\u001b[0m         group \u001b[38;5;241m=\u001b[39m group\u001b[38;5;241m.\u001b[39mwith_columns((nw\u001b[38;5;241m.\u001b[39mcol(var) \u001b[38;5;241m/\u001b[39m group_sum) \u001b[38;5;241m*\u001b[39m \u001b[38;5;241m100.0\u001b[39m)\n\u001b[1;32m-> 2668\u001b[0m patch, fit_results \u001b[38;5;241m=\u001b[39m \u001b[43mmake_trace_kwargs\u001b[49m\u001b[43m(\u001b[49m\n\u001b[0;32m   2669\u001b[0m \u001b[43m    \u001b[49m\u001b[43margs\u001b[49m\u001b[43m,\u001b[49m\u001b[43m \u001b[49m\u001b[43mtrace_spec\u001b[49m\u001b[43m,\u001b[49m\u001b[43m \u001b[49m\u001b[43mgroup\u001b[49m\u001b[43m,\u001b[49m\u001b[43m \u001b[49m\u001b[43mmapping_labels\u001b[49m\u001b[38;5;241;43m.\u001b[39;49m\u001b[43mcopy\u001b[49m\u001b[43m(\u001b[49m\u001b[43m)\u001b[49m\u001b[43m,\u001b[49m\u001b[43m \u001b[49m\u001b[43msizeref\u001b[49m\n\u001b[0;32m   2670\u001b[0m \u001b[43m\u001b[49m\u001b[43m)\u001b[49m\n\u001b[0;32m   2671\u001b[0m trace\u001b[38;5;241m.\u001b[39mupdate(patch)\n\u001b[0;32m   2672\u001b[0m \u001b[38;5;28;01mif\u001b[39;00m fit_results \u001b[38;5;129;01mis\u001b[39;00m \u001b[38;5;129;01mnot\u001b[39;00m \u001b[38;5;28;01mNone\u001b[39;00m:\n",
      "File \u001b[1;32mc:\\Users\\isard\\AppData\\Local\\Programs\\Python\\Python312\\Lib\\site-packages\\plotly\\express\\_core.py:430\u001b[0m, in \u001b[0;36mmake_trace_kwargs\u001b[1;34m(args, trace_spec, trace_data, mapping_labels, sizeref)\u001b[0m\n\u001b[0;32m    427\u001b[0m     trace_patch[\u001b[38;5;124m\"\u001b[39m\u001b[38;5;124mx\u001b[39m\u001b[38;5;124m\"\u001b[39m] \u001b[38;5;241m=\u001b[39m trace_patch[\u001b[38;5;124m\"\u001b[39m\u001b[38;5;124mx\u001b[39m\u001b[38;5;124m\"\u001b[39m]\u001b[38;5;241m.\u001b[39mto_numpy()\n\u001b[0;32m    429\u001b[0m trendline_function \u001b[38;5;241m=\u001b[39m trendline_functions[attr_value]\n\u001b[1;32m--> 430\u001b[0m y_out, hover_header, fit_results \u001b[38;5;241m=\u001b[39m \u001b[43mtrendline_function\u001b[49m\u001b[43m(\u001b[49m\n\u001b[0;32m    431\u001b[0m \u001b[43m    \u001b[49m\u001b[43margs\u001b[49m\u001b[43m[\u001b[49m\u001b[38;5;124;43m\"\u001b[39;49m\u001b[38;5;124;43mtrendline_options\u001b[39;49m\u001b[38;5;124;43m\"\u001b[39;49m\u001b[43m]\u001b[49m\u001b[43m,\u001b[49m\n\u001b[0;32m    432\u001b[0m \u001b[43m    \u001b[49m\u001b[43msorted_trace_data\u001b[49m\u001b[38;5;241;43m.\u001b[39;49m\u001b[43mget_column\u001b[49m\u001b[43m(\u001b[49m\u001b[43margs\u001b[49m\u001b[43m[\u001b[49m\u001b[38;5;124;43m\"\u001b[39;49m\u001b[38;5;124;43mx\u001b[39;49m\u001b[38;5;124;43m\"\u001b[39;49m\u001b[43m]\u001b[49m\u001b[43m)\u001b[49m\u001b[43m,\u001b[49m\u001b[43m  \u001b[49m\u001b[38;5;66;43;03m# narwhals series\u001b[39;49;00m\n\u001b[0;32m    433\u001b[0m \u001b[43m    \u001b[49m\u001b[43mx\u001b[49m\u001b[38;5;241;43m.\u001b[39;49m\u001b[43mto_numpy\u001b[49m\u001b[43m(\u001b[49m\u001b[43m)\u001b[49m\u001b[43m,\u001b[49m\u001b[43m  \u001b[49m\u001b[38;5;66;43;03m# numpy array\u001b[39;49;00m\n\u001b[0;32m    434\u001b[0m \u001b[43m    \u001b[49m\u001b[43my\u001b[49m\u001b[38;5;241;43m.\u001b[39;49m\u001b[43mto_numpy\u001b[49m\u001b[43m(\u001b[49m\u001b[43m)\u001b[49m\u001b[43m,\u001b[49m\u001b[43m  \u001b[49m\u001b[38;5;66;43;03m# numpy array\u001b[39;49;00m\n\u001b[0;32m    435\u001b[0m \u001b[43m    \u001b[49m\u001b[43margs\u001b[49m\u001b[43m[\u001b[49m\u001b[38;5;124;43m\"\u001b[39;49m\u001b[38;5;124;43mx\u001b[39;49m\u001b[38;5;124;43m\"\u001b[39;49m\u001b[43m]\u001b[49m\u001b[43m,\u001b[49m\n\u001b[0;32m    436\u001b[0m \u001b[43m    \u001b[49m\u001b[43margs\u001b[49m\u001b[43m[\u001b[49m\u001b[38;5;124;43m\"\u001b[39;49m\u001b[38;5;124;43my\u001b[39;49m\u001b[38;5;124;43m\"\u001b[39;49m\u001b[43m]\u001b[49m\u001b[43m,\u001b[49m\n\u001b[0;32m    437\u001b[0m \u001b[43m    \u001b[49m\u001b[43mnon_missing\u001b[49m\u001b[38;5;241;43m.\u001b[39;49m\u001b[43mto_numpy\u001b[49m\u001b[43m(\u001b[49m\u001b[43m)\u001b[49m\u001b[43m,\u001b[49m\u001b[43m  \u001b[49m\u001b[38;5;66;43;03m# numpy array\u001b[39;49;00m\n\u001b[0;32m    438\u001b[0m \u001b[43m\u001b[49m\u001b[43m)\u001b[49m\n\u001b[0;32m    439\u001b[0m \u001b[38;5;28;01massert\u001b[39;00m \u001b[38;5;28mlen\u001b[39m(y_out) \u001b[38;5;241m==\u001b[39m \u001b[38;5;28mlen\u001b[39m(\n\u001b[0;32m    440\u001b[0m     trace_patch[\u001b[38;5;124m\"\u001b[39m\u001b[38;5;124mx\u001b[39m\u001b[38;5;124m\"\u001b[39m]\n\u001b[0;32m    441\u001b[0m ), \u001b[38;5;124m\"\u001b[39m\u001b[38;5;124mmissing-data-handling failure in trendline code\u001b[39m\u001b[38;5;124m\"\u001b[39m\n\u001b[0;32m    442\u001b[0m trace_patch[\u001b[38;5;124m\"\u001b[39m\u001b[38;5;124my\u001b[39m\u001b[38;5;124m\"\u001b[39m] \u001b[38;5;241m=\u001b[39m y_out\n",
      "File \u001b[1;32mc:\\Users\\isard\\AppData\\Local\\Programs\\Python\\Python312\\Lib\\site-packages\\plotly\\express\\trendline_functions\\__init__.py:42\u001b[0m, in \u001b[0;36mols\u001b[1;34m(trendline_options, x_raw, x, y, x_label, y_label, non_missing)\u001b[0m\n\u001b[0;32m     36\u001b[0m     \u001b[38;5;28;01mif\u001b[39;00m k \u001b[38;5;129;01mnot\u001b[39;00m \u001b[38;5;129;01min\u001b[39;00m valid_options:\n\u001b[0;32m     37\u001b[0m         \u001b[38;5;28;01mraise\u001b[39;00m \u001b[38;5;167;01mValueError\u001b[39;00m(\n\u001b[0;32m     38\u001b[0m             \u001b[38;5;124m\"\u001b[39m\u001b[38;5;124mOLS trendline_options keys must be one of [\u001b[39m\u001b[38;5;132;01m%s\u001b[39;00m\u001b[38;5;124m] but got \u001b[39m\u001b[38;5;124m'\u001b[39m\u001b[38;5;132;01m%s\u001b[39;00m\u001b[38;5;124m'\u001b[39m\u001b[38;5;124m\"\u001b[39m\n\u001b[0;32m     39\u001b[0m             \u001b[38;5;241m%\u001b[39m (\u001b[38;5;124m\"\u001b[39m\u001b[38;5;124m, \u001b[39m\u001b[38;5;124m\"\u001b[39m\u001b[38;5;241m.\u001b[39mjoin(valid_options), k)\n\u001b[0;32m     40\u001b[0m         )\n\u001b[1;32m---> 42\u001b[0m \u001b[38;5;28;01mimport\u001b[39;00m \u001b[38;5;21;01mstatsmodels\u001b[39;00m\u001b[38;5;21;01m.\u001b[39;00m\u001b[38;5;21;01mapi\u001b[39;00m \u001b[38;5;28;01mas\u001b[39;00m \u001b[38;5;21;01msm\u001b[39;00m\n\u001b[0;32m     44\u001b[0m add_constant \u001b[38;5;241m=\u001b[39m trendline_options\u001b[38;5;241m.\u001b[39mget(\u001b[38;5;124m\"\u001b[39m\u001b[38;5;124madd_constant\u001b[39m\u001b[38;5;124m\"\u001b[39m, \u001b[38;5;28;01mTrue\u001b[39;00m)\n\u001b[0;32m     45\u001b[0m log_x \u001b[38;5;241m=\u001b[39m trendline_options\u001b[38;5;241m.\u001b[39mget(\u001b[38;5;124m\"\u001b[39m\u001b[38;5;124mlog_x\u001b[39m\u001b[38;5;124m\"\u001b[39m, \u001b[38;5;28;01mFalse\u001b[39;00m)\n",
      "\u001b[1;31mModuleNotFoundError\u001b[0m: No module named 'statsmodels'"
     ]
    }
   ],
   "source": [
    "fig3 = px.scatter(df_cancer_reg, x=\"pctpubliccoverage\", y=\"target_deathrate\", \n",
    "                  title=\"Public Health Coverage vs. Cancer Death Rate\",\n",
    "                  labels={\"pctpubliccoverage\": \"Private Health Coverage (%)\", \"target_deathrate\": \"Cancer Death Rate\"},\n",
    "                  color=\"pctprivatecoverage\", trendline='ols')\n",
    "fig3.show()\n"
   ]
  },
  {
   "cell_type": "markdown",
   "id": "58c853d1",
   "metadata": {},
   "source": [
    "### Are we making progress against cancer?"
   ]
  },
  {
   "cell_type": "markdown",
   "id": "aed11284",
   "metadata": {},
   "source": [
    "## **6. Country-Specific Cancer Trends**"
   ]
  },
  {
   "cell_type": "markdown",
   "id": "577e27b1",
   "metadata": {},
   "source": [
    "### Do socio-economical factors contribute to cancer prevalence?"
   ]
  },
  {
   "cell_type": "code",
   "execution_count": 21,
   "id": "3278b2ef",
   "metadata": {},
   "outputs": [
    {
     "ename": "ModuleNotFoundError",
     "evalue": "No module named 'statsmodels'",
     "output_type": "error",
     "traceback": [
      "\u001b[1;31m---------------------------------------------------------------------------\u001b[0m",
      "\u001b[1;31mModuleNotFoundError\u001b[0m                       Traceback (most recent call last)",
      "Cell \u001b[1;32mIn[21], line 1\u001b[0m\n\u001b[1;32m----> 1\u001b[0m \u001b[38;5;28;01mimport\u001b[39;00m \u001b[38;5;21;01mstatsmodels\u001b[39;00m\u001b[38;5;21;01m.\u001b[39;00m\u001b[38;5;21;01mapi\u001b[39;00m \u001b[38;5;28;01mas\u001b[39;00m \u001b[38;5;21;01msm\u001b[39;00m\n\u001b[0;32m      3\u001b[0m fig5 \u001b[38;5;241m=\u001b[39m px\u001b[38;5;241m.\u001b[39mscatter(df_cancer_reg, x\u001b[38;5;241m=\u001b[39m\u001b[38;5;124m\"\u001b[39m\u001b[38;5;124mpovertypercent\u001b[39m\u001b[38;5;124m\"\u001b[39m, y\u001b[38;5;241m=\u001b[39m\u001b[38;5;124m\"\u001b[39m\u001b[38;5;124mincidencerate\u001b[39m\u001b[38;5;124m\"\u001b[39m, \n\u001b[0;32m      4\u001b[0m                   title\u001b[38;5;241m=\u001b[39m\u001b[38;5;124m\"\u001b[39m\u001b[38;5;124mPoverty Rate vs. Cancer Incidence\u001b[39m\u001b[38;5;124m\"\u001b[39m,\n\u001b[0;32m      5\u001b[0m                   labels\u001b[38;5;241m=\u001b[39m{\u001b[38;5;124m\"\u001b[39m\u001b[38;5;124mpovertypercent\u001b[39m\u001b[38;5;124m\"\u001b[39m: \u001b[38;5;124m\"\u001b[39m\u001b[38;5;124mPoverty Rate (\u001b[39m\u001b[38;5;124m%\u001b[39m\u001b[38;5;124m)\u001b[39m\u001b[38;5;124m\"\u001b[39m, \u001b[38;5;124m\"\u001b[39m\u001b[38;5;124mincidencerate\u001b[39m\u001b[38;5;124m\"\u001b[39m: \u001b[38;5;124m\"\u001b[39m\u001b[38;5;124mCancer Incidence Rate\u001b[39m\u001b[38;5;124m\"\u001b[39m},\n\u001b[0;32m      6\u001b[0m                   trendline\u001b[38;5;241m=\u001b[39m\u001b[38;5;124m\"\u001b[39m\u001b[38;5;124mols\u001b[39m\u001b[38;5;124m\"\u001b[39m)\n\u001b[0;32m      7\u001b[0m fig5\u001b[38;5;241m.\u001b[39mshow()\n",
      "\u001b[1;31mModuleNotFoundError\u001b[0m: No module named 'statsmodels'"
     ]
    }
   ],
   "source": [
    "fig5 = px.scatter(df_cancer_reg, x=\"povertypercent\", y=\"incidencerate\", \n",
    "                  title=\"Poverty Rate vs. Cancer Incidence\",\n",
    "                  labels={\"povertypercent\": \"Poverty Rate (%)\", \"incidencerate\": \"Cancer Incidence Rate\"},\n",
    "                  trendline=\"ols\")\n",
    "fig5.show()"
   ]
  },
  {
   "cell_type": "markdown",
   "id": "709ddb71",
   "metadata": {},
   "source": [
    "## **7. Correlation Between Cancer Death Rates & Screening Availability**"
   ]
  },
  {
   "cell_type": "markdown",
   "id": "7de9b089",
   "metadata": {},
   "source": [
    "### Does screening save lives?"
   ]
  },
  {
   "cell_type": "markdown",
   "id": "86269125",
   "metadata": {},
   "source": [
    "## **8. Conclusion: Is Healthcare Equal Worldwide?**"
   ]
  },
  {
   "cell_type": "markdown",
   "id": "4bf0c136",
   "metadata": {},
   "source": [
    "### Bringing together all insights."
   ]
  }
 ],
 "metadata": {
  "kernelspec": {
   "display_name": "Python 3",
   "language": "python",
   "name": "python3"
  },
  "language_info": {
   "codemirror_mode": {
    "name": "ipython",
    "version": 3
   },
   "file_extension": ".py",
   "mimetype": "text/x-python",
   "name": "python",
   "nbconvert_exporter": "python",
   "pygments_lexer": "ipython3",
   "version": "3.12.6"
  }
 },
 "nbformat": 4,
 "nbformat_minor": 5
}
